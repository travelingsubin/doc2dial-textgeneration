{
 "cells": [
  {
   "cell_type": "markdown",
   "id": "e6e53000",
   "metadata": {},
   "source": [
    "# Loading datasets"
   ]
  },
  {
   "cell_type": "code",
   "execution_count": 1,
   "id": "60456010",
   "metadata": {},
   "outputs": [],
   "source": [
    "from datasets import load_dataset"
   ]
  },
  {
   "cell_type": "code",
   "execution_count": 2,
   "id": "96e38184",
   "metadata": {},
   "outputs": [],
   "source": [
    "split = 'train'\n",
    "cache_dir = './cache'"
   ]
  },
  {
   "cell_type": "code",
   "execution_count": 3,
   "id": "b3fcdbc9",
   "metadata": {},
   "outputs": [
    {
     "name": "stderr",
     "output_type": "stream",
     "text": [
      "Reusing dataset doc2dial (./cache/doc2dial/dialogue_domain/1.0.1/cf6d3ed4e77cea477387dd51c171a021a09bd314cf3a2cb2a6431ca738c6c0ee)\n",
      "Reusing dataset doc2dial (./cache/doc2dial/document_domain/1.0.1/cf6d3ed4e77cea477387dd51c171a021a09bd314cf3a2cb2a6431ca738c6c0ee)\n"
     ]
    }
   ],
   "source": [
    "dialogue_data = load_dataset(\n",
    "    \"doc2dial\",\n",
    "    name=\"dialogue_domain\",  # this is the name of the dataset for the second subtask, dialog generation\n",
    "    split=split,\n",
    "    ignore_verifications=True,\n",
    "    cache_dir=cache_dir,\n",
    ")\n",
    "\n",
    "\n",
    "document_data = load_dataset(\n",
    "    \"doc2dial\",\n",
    "    name=\"document_domain\",  # this is the name of the dataset for the second subtask, dialog generation\n",
    "    split=split,\n",
    "    ignore_verifications=True,\n",
    "    cache_dir=cache_dir,\n",
    ")"
   ]
  },
  {
   "cell_type": "code",
   "execution_count": 4,
   "id": "b576f377",
   "metadata": {},
   "outputs": [
    {
     "name": "stderr",
     "output_type": "stream",
     "text": [
      "Reusing dataset doc2dial (./cache/doc2dial/doc2dial_rc/1.0.1/cf6d3ed4e77cea477387dd51c171a021a09bd314cf3a2cb2a6431ca738c6c0ee)\n"
     ]
    }
   ],
   "source": [
    "rc_data = load_dataset(\n",
    "    \"doc2dial\",\n",
    "    name=\"doc2dial_rc\",  # this is the name of the dataset for the second subtask, dialog generation\n",
    "    split=split,\n",
    "    ignore_verifications=True,\n",
    "    cache_dir=cache_dir,\n",
    ")"
   ]
  },
  {
   "cell_type": "code",
   "execution_count": 5,
   "id": "be6fed92",
   "metadata": {},
   "outputs": [
    {
     "name": "stderr",
     "output_type": "stream",
     "text": [
      "Reusing dataset doc2dial (./cache/doc2dial/dialogue_domain/1.0.1/cf6d3ed4e77cea477387dd51c171a021a09bd314cf3a2cb2a6431ca738c6c0ee)\n"
     ]
    }
   ],
   "source": [
    "dialogue_test = load_dataset(\n",
    "    \"doc2dial\",\n",
    "    name=\"dialogue_domain\",  # this is the name of the dataset for the second subtask, dialog generation\n",
    "    split='validation',\n",
    "    ignore_verifications=True,\n",
    "    cache_dir=cache_dir,\n",
    ")"
   ]
  },
  {
   "cell_type": "markdown",
   "id": "05fc4a60",
   "metadata": {},
   "source": [
    "# Extracting user and agent utterances"
   ]
  },
  {
   "cell_type": "code",
   "execution_count": 8,
   "id": "9ccbb746",
   "metadata": {},
   "outputs": [
    {
     "name": "stdout",
     "output_type": "stream",
     "text": [
      "[{'da': 'query_condition', 'references': [{'label': 'precondition', 'sp_id': '4'}], 'role': 'user', 'turn_id': 1, 'utterance': 'Hello, I forgot o update my address, can you help me with that?'}, {'da': 'respond_solution', 'references': [{'label': 'solution', 'sp_id': '6'}, {'label': 'solution', 'sp_id': '7'}], 'role': 'agent', 'turn_id': 2, 'utterance': 'hi, you have to report any change of address to DMV within 10 days after moving. You should do this both for the address associated with your license and all the addresses associated with all your vehicles.'}, {'da': 'query_solution', 'references': [{'label': 'solution', 'sp_id': '56'}], 'role': 'user', 'turn_id': 3, 'utterance': 'Can I do my DMV transactions online?'}, {'da': 'respond_solution', 'references': [{'label': 'solution', 'sp_id': '56'}], 'role': 'agent', 'turn_id': 4, 'utterance': 'Yes, you can sign up for MyDMV for all the online transactions needed.'}, {'da': 'query_condition', 'references': [{'label': 'precondition', 'sp_id': '48'}], 'role': 'user', 'turn_id': 5, 'utterance': 'Thanks, and in case I forget to bring all of the documentation needed to the DMV office, what can I do?'}, {'da': 'respond_solution', 'references': [{'label': 'solution', 'sp_id': '49'}, {'label': 'solution', 'sp_id': '50'}, {'label': 'solution', 'sp_id': '52'}], 'role': 'agent', 'turn_id': 6, 'utterance': \"This happens often with our customers so that's why our website and MyDMV are so useful for our customers. Just check if you can make your transaction online so you don't have to go to the DMV Office.\"}, {'da': 'query_solution', 'references': [{'label': 'solution', 'sp_id': '6'}, {'label': 'solution', 'sp_id': '7'}], 'role': 'user', 'turn_id': 7, 'utterance': 'Ok, and can you tell me again where should I report my new address?'}, {'da': 'respond_solution', 'references': [{'label': 'solution', 'sp_id': '6'}, {'label': 'solution', 'sp_id': '7'}], 'role': 'agent', 'turn_id': 8, 'utterance': \"Sure. Any change of address must be reported to the DMV, that's for the address associated with your license and any of your vehicles.\"}, {'da': 'query_condition', 'references': [{'label': 'precondition', 'sp_id': '40'}], 'role': 'user', 'turn_id': 9, 'utterance': 'Can you tell me more about Traffic points and their cost?'}, {'da': 'respond_solution', 'references': [{'label': 'solution', 'sp_id': '41'}, {'label': 'solution', 'sp_id': '43'}], 'role': 'agent', 'turn_id': 10, 'utterance': 'Traffic points is the system used by DMV to track dangerous drivers. The cost of the traffic points is independent of the DRA, so you get a separate charge based on the total points you accumulate.'}]\n",
      "Number of user utterances: 3474\n",
      "Number of agent utterances: 3474\n"
     ]
    }
   ],
   "source": [
    "print(dialogue_data['turns'][0])\n",
    "\n",
    "user_utterances = []\n",
    "agent_utterances = []\n",
    "\n",
    "\n",
    "\n",
    "for sample in dialogue_data:\n",
    "    turns = sample['turns']\n",
    "    doc_user = []\n",
    "    doc_agent = []\n",
    "    #span = sample['span']\n",
    "    for turn in turns:\n",
    "        if turn['role'] == 'user':\n",
    "            doc_user.append(turn['utterance'])\n",
    "            \n",
    "        elif turn['role'] == 'agent':\n",
    "            doc_agent.append(turn['utterance'])\n",
    "    user_utterances.append(doc_user)\n",
    "    agent_utterances.append(doc_agent)\n",
    "#print(span)\n",
    "            \n",
    "###\n",
    "\n",
    "\n",
    "\n",
    "print(f'Number of user utterances: {len(user_utterances)}')\n",
    "print(f'Number of agent utterances: {len(agent_utterances)}')"
   ]
  },
  {
   "cell_type": "code",
   "execution_count": 9,
   "id": "9802a5f5",
   "metadata": {},
   "outputs": [
    {
     "data": {
      "text/plain": [
       "Dataset({\n",
       "    features: ['domain', 'doc_id', 'title', 'doc_text', 'spans', 'doc_html_ts', 'doc_html_raw'],\n",
       "    num_rows: 3416\n",
       "})"
      ]
     },
     "execution_count": 9,
     "metadata": {},
     "output_type": "execute_result"
    }
   ],
   "source": [
    "document_data"
   ]
  },
  {
   "cell_type": "code",
   "execution_count": 10,
   "id": "3df993d7",
   "metadata": {},
   "outputs": [],
   "source": [
    "spans = []\n",
    "spans_2 = []\n",
    "\n",
    "for sample in document_data:\n",
    "    spans_2 = sample['doc_text']\n",
    "    doc_spans = spans_2.split('.')\n",
    "    # for span in spans_2:\n",
    "    #     s = span['text_sp']\n",
    "    #     doc_spans.append(s)\n",
    "    spans.append(doc_spans)\n",
    "#print(s)\n",
    "#print(spans[0])\n",
    "#print(spans_2)"
   ]
  },
  {
   "cell_type": "code",
   "execution_count": 47,
   "id": "1e78fcf1",
   "metadata": {
    "collapsed": true,
    "jupyter": {
     "outputs_hidden": true
    }
   },
   "outputs": [
    {
     "name": "stdout",
     "output_type": "stream",
     "text": [
      "[[\"\\n\\nBenefits Planner: Survivors | Planning For Your Survivors \\nAs you plan for the future , you'll want to think about what your family would need if you should die now\", ' Social Security can help your family if you have earned enough Social Security credits through your work', ' You can earn up to four credits each year', ' In 2019 , for example , you earn one credit for each $1,360 of wages or self - employment income', ' When you have earned $5,440 , you have earned your four credits for the year', ' The number of credits needed to provide benefits for your survivors depends on your age when you die', ' No one needs more than 40 credits 10 years of work to be eligible for any Social Security benefit', ' But , the younger a person is , the fewer credits they must have for family members to receive survivors benefits', \" Benefits can be paid to your children and your spouse who is caring for the children even if you don't have the required number of credits\", ' They can get benefits if you have credit for one and one - half years of work 6 credits in the three years just before your death', \" \\n\\nFor Your Widow Or Widower \\nThere are about five million widows and widowers receiving monthly Social Security benefits based on their deceased spouse's earnings record\", ' And , for many of those survivors, particularly aged women, those benefits are keeping them out of poverty', ' Widows and widowers can receive : reduced benefits as early as age 60 or full benefits at full retirement age or older', \" benefits as early as age 50 if they're disabled AND their disability started before or within seven years of your death\", ' benefits at any age , if they have not remarried , and if they take care of your child who is under age 16 or disabled and receives benefits on your record', ' If applying for disability benefits on a deceased worker s record , they can speed up the application process if they complete an Adult Disability Report and have it available at the time of their appointment', ' We use the same definition of disability for widows and widowers as we do for workers', ' \\n\\nFor Your Surviving Divorced Spouse \\nIf you have a surviving divorced spouse , they could get the same benefits as your widow or widower provided that your marriage lasted 10 years or more', \" Benefits paid to a surviving divorced spouse won't affect the benefit amounts your other survivors will receive based on your earnings record\", ' If your former spouse is caring for your child who is under age 16 or disabled and gets benefits on your record , they will not have to meet the length - of - marriage rule', ' The child must be your natural or legally adopted child', ' \\n\\nFor Your Children \\nYour unmarried children who are under 18 up to age 19 if attending elementary or secondary school full time can be eligible to receive Social Security benefits when you die', ' And your child can get benefits at any age if they were disabled before age 22 and remain disabled', ' Besides your natural children , your stepchildren, grandchildren, step grandchildren or adopted children may receive benefits under certain circumstances', ' For further information , view our publication', ' \\n\\nFor Your Parents \\nYou must have been providing at least half of your parent s support and your parent must not be eligible to receive a retirement benefit that is higher than the benefit we could pay on your record', ' Generally, your parent also must not have married after your death ; however, there are some exceptions', ' In addition to your natural parent , your stepparent or adoptive parent may receive benefits if they became your parent before you were age 16', ' \\n\\nHow Much Would Your Survivors Receive \\nHow much your family could receive in benefits depends on your average lifetime earnings', ' The higher your earnings were , the higher their benefits would be', ' We calculate a basic amount as if you had reached full retirement age at the time you die', ' These are examples of monthly benefit payments : Widow or widower, full retirement age or older 100 percent of your benefit amount ; Widow or widower , age 60 to full retirement age 71 to 99 percent of your basic amount ; Disabled widow or widower , age 50 through 59 71 percent ; Widow or widower , any age, caring for a child under age 16 75 percent ; A child under age 18 19 if still in elementary or secondary school or disabled 75 percent ; and Your dependent parent , age 62 or older : One surviving parent 82 percent', ' Two surviving parents 75 percent to each parent', ' Percentages for a surviving divorced spouse would be the same as above', ' There may also be a special lump - sum death payment', \" \\n\\nMaximum Family Amount \\nThere's a limit to the amount that family members can receive each month\", ' The limit varies , but it is generally equal to between 150 and 180 percent of the basic benefit rate', ' If the sum of the benefits payable to family members is greater than this limit , the benefits will be reduced proportionately', \" Any benefits paid to a surviving divorced spouse based on disability or age won't count toward this maximum amount\", ' Get your online or check our Benefit Calculators for an estimate of the benefits your family could receive if you died right now', ' \\n\\nOther Things You Need To Know \\nThere are limits on how much survivors may earn while they receive benefits', \" Benefits for a widow, widower, or surviving divorced spouse may be affected by several additional factors : If your widow, widower, or surviving divorced spouse remarries before they reach age 60 age 50 if disabled , they cannot receive benefits as a surviving spouse while they're married\", ' If your widow, widower, or surviving divorced spouse remarries after they reach age 60 age 50 if disabled , they will continue to qualify for benefits on your Social Security record', \" However , if their current spouse is a Social Security beneficiary , they may want to apply for spouse's benefits on their record\", \" If that amount is more than the widow's or widower's benefit on your record , they will receive a combination of benefits that equals the higher amount\", ' If your widow, widower, or surviving divorced spouse receives benefits on your record , they can switch to their own retirement benefit as early as age 62', \" This assumes they're eligible for retirement benefits and their retirement rate is higher than their rate as a widow, widower, or surviving divorced spouse\", ' In many cases , a widow or widower can begin receiving one benefit at a reduced rate and then, at full retirement age, switch to the other benefit at an unreduced rate', ' If your widow, widower, or surviving divorced spouse will also receive a pension based on work not covered by Social Security, such as government or foreign work , their Social Security benefits as a survivor may be affected', ' '], [\"\\n\\nBenefits Planner: Survivors | Planning For Your Survivors \\nAs you plan for the future , you'll want to think about what your family would need if you should die now\", ' Social Security can help your family if you have earned enough Social Security credits through your work', ' You can earn up to four credits each year', ' In 2019 , for example , you earn one credit for each $1,360 of wages or self - employment income', ' When you have earned $5,440 , you have earned your four credits for the year', ' The number of credits needed to provide benefits for your survivors depends on your age when you die', ' No one needs more than 40 credits 10 years of work to be eligible for any Social Security benefit', ' But , the younger a person is , the fewer credits they must have for family members to receive survivors benefits', \" Benefits can be paid to your children and your spouse who is caring for the children even if you don't have the required number of credits\", ' They can get benefits if you have credit for one and one - half years of work 6 credits in the three years just before your death', \" \\n\\nFor Your Widow Or Widower \\nThere are about five million widows and widowers receiving monthly Social Security benefits based on their deceased spouse's earnings record\", ' And , for many of those survivors, particularly aged women, those benefits are keeping them out of poverty', ' Widows and widowers can receive : reduced benefits as early as age 60 or full benefits at full retirement age or older', \" benefits as early as age 50 if they're disabled AND their disability started before or within seven years of your death\", ' benefits at any age , if they have not remarried , and if they take care of your child who is under age 16 or disabled and receives benefits on your record', ' If applying for disability benefits on a deceased worker s record , they can speed up the application process if they complete an Adult Disability Report and have it available at the time of their appointment', ' We use the same definition of disability for widows and widowers as we do for workers', ' \\n\\nFor Your Surviving Divorced Spouse \\nIf you have a surviving divorced spouse , they could get the same benefits as your widow or widower provided that your marriage lasted 10 years or more', \" Benefits paid to a surviving divorced spouse won't affect the benefit amounts your other survivors will receive based on your earnings record\", ' If your former spouse is caring for your child who is under age 16 or disabled and gets benefits on your record , they will not have to meet the length - of - marriage rule', ' The child must be your natural or legally adopted child', ' \\n\\nFor Your Children \\nYour unmarried children who are under 18 up to age 19 if attending elementary or secondary school full time can be eligible to receive Social Security benefits when you die', ' And your child can get benefits at any age if they were disabled before age 22 and remain disabled', ' Besides your natural children , your stepchildren, grandchildren, step grandchildren or adopted children may receive benefits under certain circumstances', ' For further information , view our publication', ' \\n\\nFor Your Parents \\nYou must have been providing at least half of your parent s support and your parent must not be eligible to receive a retirement benefit that is higher than the benefit we could pay on your record', ' Generally, your parent also must not have married after your death ; however, there are some exceptions', ' In addition to your natural parent , your stepparent or adoptive parent may receive benefits if they became your parent before you were age 16', ' \\n\\nHow Much Would Your Survivors Receive \\nHow much your family could receive in benefits depends on your average lifetime earnings', ' The higher your earnings were , the higher their benefits would be', ' We calculate a basic amount as if you had reached full retirement age at the time you die', ' These are examples of monthly benefit payments : Widow or widower, full retirement age or older 100 percent of your benefit amount ; Widow or widower , age 60 to full retirement age 71 to 99 percent of your basic amount ; Disabled widow or widower , age 50 through 59 71 percent ; Widow or widower , any age, caring for a child under age 16 75 percent ; A child under age 18 19 if still in elementary or secondary school or disabled 75 percent ; and Your dependent parent , age 62 or older : One surviving parent 82 percent', ' Two surviving parents 75 percent to each parent', ' Percentages for a surviving divorced spouse would be the same as above', ' There may also be a special lump - sum death payment', \" \\n\\nMaximum Family Amount \\nThere's a limit to the amount that family members can receive each month\", ' The limit varies , but it is generally equal to between 150 and 180 percent of the basic benefit rate', ' If the sum of the benefits payable to family members is greater than this limit , the benefits will be reduced proportionately', \" Any benefits paid to a surviving divorced spouse based on disability or age won't count toward this maximum amount\", ' Get your online or check our Benefit Calculators for an estimate of the benefits your family could receive if you died right now', ' \\n\\nOther Things You Need To Know \\nThere are limits on how much survivors may earn while they receive benefits', \" Benefits for a widow, widower, or surviving divorced spouse may be affected by several additional factors : If your widow, widower, or surviving divorced spouse remarries before they reach age 60 age 50 if disabled , they cannot receive benefits as a surviving spouse while they're married\", ' If your widow, widower, or surviving divorced spouse remarries after they reach age 60 age 50 if disabled , they will continue to qualify for benefits on your Social Security record', \" However , if their current spouse is a Social Security beneficiary , they may want to apply for spouse's benefits on their record\", \" If that amount is more than the widow's or widower's benefit on your record , they will receive a combination of benefits that equals the higher amount\", ' If your widow, widower, or surviving divorced spouse receives benefits on your record , they can switch to their own retirement benefit as early as age 62', \" This assumes they're eligible for retirement benefits and their retirement rate is higher than their rate as a widow, widower, or surviving divorced spouse\", ' In many cases , a widow or widower can begin receiving one benefit at a reduced rate and then, at full retirement age, switch to the other benefit at an unreduced rate', ' If your widow, widower, or surviving divorced spouse will also receive a pension based on work not covered by Social Security, such as government or foreign work , their Social Security benefits as a survivor may be affected', ' ']]\n"
     ]
    }
   ],
   "source": [
    "print(spans[0:2])"
   ]
  },
  {
   "cell_type": "code",
   "execution_count": 40,
   "id": "2fc594e6",
   "metadata": {
    "collapsed": true,
    "jupyter": {
     "outputs_hidden": true
    }
   },
   "outputs": [
    {
     "name": "stdout",
     "output_type": "stream",
     "text": [
      "\n",
      "\n",
      "Student Loan Repayment \n",
      "Before repayment begins , develop a plan that puts you on track to pay back your loan on time and in full. Understanding the details of repayment on your federal student loan can save you time and money. Find out what repayment plan options are available , when you must begin making payments , how to make your payment , how to pay your loan off faster , and what to do if you have trouble making payments. \n",
      "\n",
      "I need more information about my loan servicer. \n",
      "Find out who services your federal student loan. Try This Resource Federal Student Loans: Repaying Your Loans Provides information about federal student loan repayment plan options, finding loan history and loan servicers, and making payments. \n",
      "\n",
      "I need more information about the types of repayment plans available. \n",
      "Learn more about Repayment Plans. When You Must Begin Payments The Grace Period Making Payments Having Your Student Loan Forgiven REMEMBER : Your federal student loans can t be canceled or forgiven because you didn t get the education or job you expected or you didn t complete your education unless you couldn t complete your education because your school closed. \n",
      "\n",
      "When You Must Begin Payments \n",
      "Once you graduate , drop below half - time enrollment , or leave school , your federal student loan goes into repayment. However , if you have a Direct Subsidized, Direct Unsubsidized, or Federal Family Education Loan , you have a six - month grace period before you are required to start making regular payments. You ll have a nine - month grace period if you ve got a Perkins Loan. (Got a PLUS loan? You ll go into repayment as soon as the loan is fully disbursed which means once it s paid out. But if you re a graduate and professional student PLUS borrower, you will be placed on an automatic deferment while in school and for six months after graduating, leaving school, or dropping below half-time enrollment.) Note: When your loan enters repayment , your servicer will automatically place you on the Standard Repayment Plan. You can request a different repayment plan at any time. You can make prepayments on your loan while you are in school or during your grace period. Be aware, however, that any prepayment you make will not count as a qualifying payment in any loan forgiveness programs. Your loan servicer will provide you with a loan repayment schedule that states when your first payment is due, the number and frequency of payments, and the amount of each payment. Your billing statement will tell you how much to pay. Your monthly payment amount depends on your repayment plan. If you signed up for electronic communication , pay attention to your email. Most loan servicers send an email when your billing statement is ready for you to access online. \n",
      "\n",
      "The Grace Period \n",
      "For most federal student loan types , after you graduate , leave school , or drop below half - time enrollment , you have a six - month grace period sometimes nine months for Perkins Loans before you must begin making payments. This grace period gives you time to get financially settled and to select your repayment plan. Not all federal student loans have a grace period. Note that for most loans, interest accrues during your grace period. You can choose to pay the interest that accrues during your grace period. This prevents that interest from being added to the principal balance also known as interest capitalization. \n",
      "\n",
      "Loans and Their Grace Periods \n",
      "Review this list to find out whether your loan has a grace period. Direct Subsidized Loans and Direct Unsubsidized Loans have a six - month grace period before payments are due. PLUS loans do not have a grace period ; but if you received a PLUS loan as a graduate or professional student, you ll automatically get a six - month deferment after you graduate, leave school, or drop below half - time enrollment. No payments are required during this six - month deferment period. If you re a parent borrower who took out a PLUS loan to pay for your child s education , you can request a six - month deferment after your child graduates, leaves school, or drops below half - time enrollment. Contact your loan servicer for more information. If you received a Federal Perkins Loan , check with the school where you received your loan. \n",
      "\n",
      "Circumstances That May Affect Your Grace Period \n",
      "Certain situations that may affect your grace period include the following : Active duty military If you are called to active military duty for more than 30 days before the end of your grace period , you will receive the full six - month grace period when you return from active duty. Returning to school before the end of your loan s grace period If you reenroll in school at least half - time before the end of your grace period , you will receive the full six - month grace period when you stop attending school or drop below half - time enrollment. Loan consolidation If you consolidate your loans during your grace period , you give up the remainder of your grace period and begin repayment after your Direct Consolidation Loan is processed unless you request to have the processing of your consolidation loan delayed until closer to the end of your grace period. \n",
      "\n",
      "Making Payments \n",
      "The U.S. Department of Education ED uses several loan servicers to handle the billing and other services on loans for the William D. Ford Federal Direct Loan Direct Loan Program and for loans that were made under the Federal Family Education Loan FFEL Program and that ED later purchased. Your loan servicer will set you up under the Standard Repayment Plan unless you tell your loan servicer you want a different repayment plan. If you schedule an automatic monthly electronic debit of your loan payment from your checking or savings account , you receive a 0.25% interest rate deduction on Direct Loans. Contact your loan servicer for more information. To make a payment by postal mail , contact your loan servicer for the mailing address. To discuss repayment plan options or change your repayment plan , contact your loan servicer. First , though , you can use our Loan Simulator to get an early look at which plans you may be eligible for and see estimates for how much you would pay monthly and overall. \n",
      "\n",
      "I want to get ahead by paying extra each month. \n",
      "You can make payments before they are due or pay more than the amount due each month. Paying a little extra each month can reduce the interest you pay and reduce the total cost of your loan over time. Contact your loan servicer to discuss these options. \n",
      "\n",
      "I m having trouble making my loan payment. \n",
      "Contact your loan servicer as soon as possible. You may be able to change your repayment plan to one that lowers your monthly payment and, in some cases, may be based on your income. You can also ask your loan servicer about your options for a deferment or forbearance or loan consolidation. Trouble Making Your Federal Student Loan Payments? provides information on what to do if you are having difficulty making your student loan payments. \n",
      "\n",
      "I ve missed one or more loan payments. \n",
      "Stay in touch with your loan servicer especially if you are struggling to make payments on your loans. Your loan servicer will explain your repayment options, such as applying for an income - driven repayment plan or a forbearance or deferment, to help you stay on track or get back on track when you fall behind. One thing you definitely want to avoid is going into default! This occurs when you are at least nine months past due on your student loan. The consequences of default include damage to your credit rating and future borrowing ability. They may also include garnishment of your wages and withholding of your tax refunds. If you can t make payments , contact your loan servicer to find out your options. \n",
      "\n",
      "Having Your Student Loan Forgiven \n",
      "You are generally required to repay your student loan , but in certain situations, your loan may be forgiven, canceled, or discharged. \n"
     ]
    }
   ],
   "source": [
    "print(spans_2)"
   ]
  },
  {
   "cell_type": "markdown",
   "id": "f5ecb882",
   "metadata": {},
   "source": [
    "# Generating text using transformers"
   ]
  },
  {
   "cell_type": "markdown",
   "id": "0b8c5f87",
   "metadata": {},
   "source": [
    "## 1. Text generation pipeline based on GPT2"
   ]
  },
  {
   "cell_type": "code",
   "execution_count": 11,
   "id": "2d0a2d05",
   "metadata": {},
   "outputs": [],
   "source": [
    "from transformers import pipeline"
   ]
  },
  {
   "cell_type": "code",
   "execution_count": 12,
   "id": "7313081d",
   "metadata": {},
   "outputs": [
    {
     "name": "stderr",
     "output_type": "stream",
     "text": [
      "No model was supplied, defaulted to gpt2 (https://huggingface.co/gpt2)\n"
     ]
    }
   ],
   "source": [
    "generator = pipeline(\"text-generation\")"
   ]
  },
  {
   "cell_type": "code",
   "execution_count": 13,
   "id": "1a767752",
   "metadata": {},
   "outputs": [
    {
     "data": {
      "text/plain": [
       "[['Hello, I forgot o update my address, can you help me with that?',\n",
       "  'Can I do my DMV transactions online?',\n",
       "  'Thanks, and in case I forget to bring all of the documentation needed to the DMV office, what can I do?',\n",
       "  'Ok, and can you tell me again where should I report my new address?',\n",
       "  'Can you tell me more about Traffic points and their cost?'],\n",
       " ['Will you keep me informed about when my insurance is about to lapse?',\n",
       "  'Is it needed that my address is always up to date with you guys?',\n",
       "  'Can you tell me more about the traffic points and its cost?',\n",
       "  \"It's always a hassle to bring all the required documents to the DMV Office. Please tell me an alternative.\",\n",
       "  'In case I have a problem with my insurance and your inquiry letter does not resolve the problem, what would happen.'],\n",
       " ['I moved recently and forgot to update my address. Could this be a problem?',\n",
       "  'Is it common to delay a transaction due to forgetting any prerequisite when going to the DMV office? what could be the alternative?',\n",
       "  \"What if the inquiry letter you send to me doesn't resolve the problem with my insurance?\",\n",
       "  'What could happen if I forget to update my new address with you guys?',\n",
       "  'Can I leave the state without notifying DMV?'],\n",
       " [\"Can you keep me up to date with my insurance so it doesn't lapse?\",\n",
       "  'How would you contact me about any insurance problem?',\n",
       "  'tell me about the cost of traffic points.',\n",
       "  'tell me about the documentation I should bring when going to a DMV office.',\n",
       "  'Would there be a problem if I leave the state without notifying DMV?'],\n",
       " ['Tell me about what can I do to not let my insurance lapse.',\n",
       "  'What if I cancel my insurance policy?',\n",
       "  'I more often than not tend to forget one or some of the documents needed for my transaction at the DMV Office, please tell me, is there another way to do my DMV transactions?',\n",
       "  \"Can I just write my new address in the back of my license if I haven't updated my address at the DMV?\",\n",
       "  'How will you contact me about a problem with my insurance?']]"
      ]
     },
     "execution_count": 13,
     "metadata": {},
     "output_type": "execute_result"
    }
   ],
   "source": [
    "user_utterances[0:5]"
   ]
  },
  {
   "cell_type": "code",
   "execution_count": 14,
   "id": "77a62e17",
   "metadata": {},
   "outputs": [
    {
     "data": {
      "text/plain": [
       "['how student loan payments are handled',\n",
       " 'If I want to know more about this topic and make payments',\n",
       " 'ok i understand and what things should i avoid?',\n",
       " \"What if it's not up to me and I can't make payments?\",\n",
       " 'How can I make a payment by post?',\n",
       " 'Can you forgive the student loan?']"
      ]
     },
     "execution_count": 14,
     "metadata": {},
     "output_type": "execute_result"
    }
   ],
   "source": [
    "doc_user[0:10]"
   ]
  },
  {
   "cell_type": "markdown",
   "id": "312f3598",
   "metadata": {},
   "source": [
    "### Example 1-1. Top 5 DMV Mistakes - Forgot to update the address (without dialogue history) - better score"
   ]
  },
  {
   "cell_type": "code",
   "execution_count": null,
   "id": "ab143470",
   "metadata": {},
   "outputs": [],
   "source": [
    "from transformers import pipeline, set_seed\n",
    "set_seed(42)"
   ]
  },
  {
   "cell_type": "code",
   "execution_count": 98,
   "id": "eb2fa4ac",
   "metadata": {},
   "outputs": [
    {
     "name": "stderr",
     "output_type": "stream",
     "text": [
      "Setting `pad_token_id` to `eos_token_id`:50256 for open-end generation.\n"
     ]
    },
    {
     "data": {
      "text/plain": [
       "[{'generated_text': 'Hello, I forgot o update my address, can you help me with that?\\n\\nHudde\\n\\n\\nOffline\\n\\n\\nActivity: 564\\n\\nMerit: 500\\n\\n\\nHero MemberActivity: 564Merit: 500 Re: [ANN][ICO] Bitmoner - Cryptowire - Buy Bitcoin - Bitcoin.com August 22, 2015, 09:27'},\n",
       " {'generated_text': 'Hello, I forgot o update my address, can you help me with that?\\n\\nMigraine: If it is a problem with sleep, check the address on your laptop\\n\\nMigraine: Go check the \"Addresses\" page\\n\\nMigraine: I know, I would\\n\\nMigraine: But they arent all real names\\n'},\n",
       " {'generated_text': 'Hello, I forgot o update my address, can you help me with that? - Aufwohl\\n\\nBruxellius [ edit ]\\n\\nMember\\n\\n\\nPosts : 1608\\n\\nJoin date : 2015-12-20\\n\\nAge : 21\\n\\n\\nMemberPosts : 1608Join date : 2015-12-20Age : 21 Profile :'},\n",
       " {'generated_text': \"Hello, I forgot o update my address, can you help me with that?\\n\\nI would like to be able to follow you on twitter.\\n\\nSincerely,\\n\\n\\nThe Administrator\\n\\nUser Info: Huzzu4Huzzu4 Huzzu4Huzzu4 (Topic Creator) 2 years ago #2\\n\\n\\nHello! I'm\"},\n",
       " {'generated_text': \"Hello, I forgot o update my address, can you help me with that?\\n\\nDell\\n\\nWell, I couldn't help you with that. Don't just be mean. It's because I haven't told you anything.\\n\\nE-No, I know.\\n\\nDell\\n\\nThat's normal right?\\n\\nE-Yeah, well\"}]"
      ]
     },
     "execution_count": 98,
     "metadata": {},
     "output_type": "execute_result"
    }
   ],
   "source": [
    "generator = pipeline('text-generation', model='gpt2')\n",
    "generator(\"Hello, I forgot o update my address, can you help me with that?\", max_length=75, num_return_sequences=5)"
   ]
  },
  {
   "cell_type": "code",
   "execution_count": null,
   "id": "f0d894e4",
   "metadata": {},
   "outputs": [],
   "source": [
    "from datasets import load_metric\n",
    "metric = load_metric(\"sacrebleu\")\n",
    "references = [[\"you must report a change of address to DMV within ten days of moving. That is the case for the address associated with your license, as well as all the addresses associated with each registered vehicle, which may differ.\"]]"
   ]
  },
  {
   "cell_type": "code",
   "execution_count": 33,
   "id": "513658ec",
   "metadata": {},
   "outputs": [
    {
     "data": {
      "text/plain": [
       "{'score': 2.7027319057477674,\n",
       " 'counts': [15, 2, 0, 0],\n",
       " 'totals': [53, 52, 51, 50],\n",
       " 'precisions': [28.30188679245283,\n",
       "  3.8461538461538463,\n",
       "  0.9803921568627451,\n",
       "  0.5],\n",
       " 'bp': 1.0,\n",
       " 'sys_len': 53,\n",
       " 'ref_len': 43}"
      ]
     },
     "execution_count": 33,
     "metadata": {},
     "output_type": "execute_result"
    }
   ],
   "source": [
    "predictions = [\"you may ask. This should work. Now that you have the address, you do not have to re-connect using the web.\\n\\nThat will also help me to locate out the problem of my address since I do not know it\\n\\nEdit: You are missing a couple of fields\"]\n",
    "results = metric.compute(predictions=predictions, references=references)\n",
    "results"
   ]
  },
  {
   "cell_type": "code",
   "execution_count": 34,
   "id": "f53c631d",
   "metadata": {},
   "outputs": [
    {
     "data": {
      "text/plain": [
       "{'score': 2.5035231196615144,\n",
       " 'counts': [16, 2, 0, 0],\n",
       " 'totals': [58, 57, 56, 55],\n",
       " 'precisions': [27.586206896551722,\n",
       "  3.508771929824561,\n",
       "  0.8928571428571429,\n",
       "  0.45454545454545453],\n",
       " 'bp': 1.0,\n",
       " 'sys_len': 58,\n",
       " 'ref_len': 43}"
      ]
     },
     "execution_count": 34,
     "metadata": {},
     "output_type": "execute_result"
    }
   ],
   "source": [
    "predictions = ['I\\'m sorry, I just told you your address.\" The reply wasn\\'t what the address meant though. I just wanted to have the address to myself with which I could get a message with a short, text message. I decided to use Google \"address lookup.\" To do this at the']\n",
    "results = metric.compute(predictions=predictions, references=references)\n",
    "results"
   ]
  },
  {
   "cell_type": "code",
   "execution_count": 35,
   "id": "bfd9fcdf",
   "metadata": {},
   "outputs": [
    {
     "data": {
      "text/plain": [
       "{'score': 1.2704589353414029,\n",
       " 'counts': [10, 0, 0, 0],\n",
       " 'totals': [51, 50, 49, 48],\n",
       " 'precisions': [19.607843137254903,\n",
       "  1.0,\n",
       "  0.5102040816326531,\n",
       "  0.2604166666666667],\n",
       " 'bp': 1.0,\n",
       " 'sys_len': 51,\n",
       " 'ref_len': 43}"
      ]
     },
     "execution_count": 35,
     "metadata": {},
     "output_type": "execute_result"
    }
   ],
   "source": [
    "predictions = ['I\\'m using the new address from the \"Registrar\" page on the wiki!\\n\\nWell this is true, you will need a new password if you want to use the server.\\n\\nAlso if you use a proxy or you install a script and can\\'t get the client server']\n",
    "results = metric.compute(predictions=predictions, references=references)\n",
    "results"
   ]
  },
  {
   "cell_type": "code",
   "execution_count": 36,
   "id": "8d25eade",
   "metadata": {},
   "outputs": [
    {
     "data": {
      "text/plain": [
       "{'score': 0.9460547950971884,\n",
       " 'counts': [6, 0, 0, 0],\n",
       " 'totals': [60, 59, 58, 57],\n",
       " 'precisions': [10.0,\n",
       "  0.847457627118644,\n",
       "  0.43103448275862066,\n",
       "  0.21929824561403508],\n",
       " 'bp': 1.0,\n",
       " 'sys_len': 60,\n",
       " 'ref_len': 43}"
      ]
     },
     "execution_count": 36,
     "metadata": {},
     "output_type": "execute_result"
    }
   ],
   "source": [
    "predictions = ['I need to update my address so please help me with that?I have an issue,Please let me know, I cannot keep going back, what should I do next?:- I should be able to get the data I need, right?You can also help, let me know that?']\n",
    "results = metric.compute(predictions=predictions, references=references)\n",
    "results"
   ]
  },
  {
   "cell_type": "code",
   "execution_count": 135,
   "id": "9c1c48c4",
   "metadata": {},
   "outputs": [
    {
     "name": "stderr",
     "output_type": "stream",
     "text": [
      "Setting `pad_token_id` to `eos_token_id`:50256 for open-end generation.\n"
     ]
    },
    {
     "data": {
      "text/plain": [
       "[{'generated_text': \"user:Hello, I forgot o update my address, can you help me with that?\\n\\nuser:Hi, could you help me with that?\\n\\nuser: I will tell you. It's a question for you.\\n\\nuser:...\\n\\nuser: I told you to do\\n\\nuser: But I can't...\\n\\nuser: I\"},\n",
       " {'generated_text': 'user:Hello, I forgot o update my address, can you help me with that? I have $10 worth of credit card and one more note? Just give me a few minutes. Thanks ^\\n\\nI want to send out a request of sorts, I know you can help me address the issue, why send this, just feel free to drop it me on Twitter'},\n",
       " {'generated_text': 'user:Hello, I forgot o update my address, can you help me with that?\\n\\n[11:37:06 PM] [Client thread/INFO] [The Elder Scrolls V: Skyrim]: Skins are in-game, right?\\n\\n\\n[11:37:06 PM] [Client thread/INFO] [The Elder Scrolls V: Skyrim]:'},\n",
       " {'generated_text': \"user:Hello, I forgot o update my address, can you help me with that?\\n\\nError\\n\\nIt means I sent you multiple emails. I'm not sure if you were aware of this. Could you please explain.\\n\\nError\"},\n",
       " {'generated_text': 'user:Hello, I forgot o update my address, can you help me with that? Thanks,\\n\\nJosé\\n\\nPossibly!\\n\\nThank you.\\n\\nHello! Please see the FAQ.\\n\\nThe addresses displayed below are actually a valid copy of my public key.\\n\\nThis is a very basic issue of having a unique identifier. As'}]"
      ]
     },
     "execution_count": 135,
     "metadata": {},
     "output_type": "execute_result"
    }
   ],
   "source": [
    "generator(\"user:Hello, I forgot o update my address, can you help me with that?\", max_length=75, num_return_sequences=5)"
   ]
  },
  {
   "cell_type": "code",
   "execution_count": 136,
   "id": "9110d45a",
   "metadata": {},
   "outputs": [],
   "source": [
    "metric = load_metric(\"sacrebleu\")\n",
    "references = [[\"you must report a change of address to DMV within ten days of moving. That is the case for the address associated with your license, as well as all the addresses associated with each registered vehicle, which may differ.\"]]"
   ]
  },
  {
   "cell_type": "code",
   "execution_count": 137,
   "id": "3aac2c57",
   "metadata": {},
   "outputs": [
    {
     "data": {
      "text/plain": [
       "{'score': 1.3072157844994778,\n",
       " 'counts': [8, 0, 0, 0],\n",
       " 'totals': [47, 46, 45, 44],\n",
       " 'precisions': [17.02127659574468,\n",
       "  1.0869565217391304,\n",
       "  0.5555555555555556,\n",
       "  0.2840909090909091],\n",
       " 'bp': 1.0,\n",
       " 'sys_len': 47,\n",
       " 'ref_len': 43}"
      ]
     },
     "execution_count": 137,
     "metadata": {},
     "output_type": "execute_result"
    }
   ],
   "source": [
    "predictions = ['user:Hi, could you help me with that?\\n\\nuser: I will tell you. It\\'s a question for you.\\n\\nuser:...\\n\\nuser: I told you to do\\n\\nuser: But I can\\'t...\\n\\nuser: I']\n",
    "results = metric.compute(predictions=predictions, references=references)\n",
    "results"
   ]
  },
  {
   "cell_type": "code",
   "execution_count": 138,
   "id": "faf13191",
   "metadata": {},
   "outputs": [
    {
     "data": {
      "text/plain": [
       "{'score': 1.1754281596509946,\n",
       " 'counts': [10, 0, 0, 0],\n",
       " 'totals': [55, 54, 53, 52],\n",
       " 'precisions': [18.181818181818183,\n",
       "  0.9259259259259259,\n",
       "  0.4716981132075472,\n",
       "  0.2403846153846154],\n",
       " 'bp': 1.0,\n",
       " 'sys_len': 55,\n",
       " 'ref_len': 43}"
      ]
     },
     "execution_count": 138,
     "metadata": {},
     "output_type": "execute_result"
    }
   ],
   "source": [
    "predictions = ['I have $10 worth of credit card and one more note? Just give me a few minutes. Thanks ^\\n\\nI want to send out a request of sorts, I know you can help me address the issue, why send this, just feel free to drop it me on Twitter']\n",
    "results = metric.compute(predictions=predictions, references=references)\n",
    "results"
   ]
  },
  {
   "cell_type": "code",
   "execution_count": 139,
   "id": "c509a966",
   "metadata": {},
   "outputs": [
    {
     "data": {
      "text/plain": [
       "{'score': 0.7002773917100699,\n",
       " 'counts': [1, 0, 0, 0],\n",
       " 'totals': [52, 51, 50, 49],\n",
       " 'precisions': [1.9230769230769231,\n",
       "  0.9803921568627451,\n",
       "  0.5,\n",
       "  0.25510204081632654],\n",
       " 'bp': 1.0,\n",
       " 'sys_len': 52,\n",
       " 'ref_len': 43}"
      ]
     },
     "execution_count": 139,
     "metadata": {},
     "output_type": "execute_result"
    }
   ],
   "source": [
    "predictions = ['[11:37:06 PM] [Client thread/INFO] [The Elder Scrolls V: Skyrim]: Skins are in-game, right?\\n\\n\\n[11:37:06 PM] [Client thread/INFO] [The Elder Scrolls V: Skyrim]:']\n",
    "results = metric.compute(predictions=predictions, references=references)\n",
    "results"
   ]
  },
  {
   "cell_type": "code",
   "execution_count": 143,
   "id": "9e13ac7d",
   "metadata": {},
   "outputs": [
    {
     "data": {
      "text/plain": [
       "{'score': 1.0081108203421676,\n",
       " 'counts': [4, 0, 0, 0],\n",
       " 'totals': [24, 23, 22, 21],\n",
       " 'precisions': [16.666666666666668,\n",
       "  2.1739130434782608,\n",
       "  1.1363636363636365,\n",
       "  0.5952380952380952],\n",
       " 'bp': 0.453089017280169,\n",
       " 'sys_len': 24,\n",
       " 'ref_len': 43}"
      ]
     },
     "execution_count": 143,
     "metadata": {},
     "output_type": "execute_result"
    }
   ],
   "source": [
    "predictions = ['Error\\n\\nIt means I sent you multiple emails. I\\'m not sure if you were aware of this. Could you please explain.']\n",
    "results = metric.compute(predictions=predictions, references=references)\n",
    "results"
   ]
  },
  {
   "cell_type": "code",
   "execution_count": 144,
   "id": "c723f3bd",
   "metadata": {},
   "outputs": [
    {
     "data": {
      "text/plain": [
       "{'score': 1.5164399783192966,\n",
       " 'counts': [10, 0, 0, 0],\n",
       " 'totals': [42, 41, 40, 39],\n",
       " 'precisions': [23.80952380952381,\n",
       "  1.2195121951219512,\n",
       "  0.625,\n",
       "  0.32051282051282054],\n",
       " 'bp': 0.9764716866522433,\n",
       " 'sys_len': 42,\n",
       " 'ref_len': 43}"
      ]
     },
     "execution_count": 144,
     "metadata": {},
     "output_type": "execute_result"
    }
   ],
   "source": [
    "predictions = ['Thanks,\\n\\nJosé\\n\\nPossibly!\\n\\nThank you.\\n\\nHello! Please see the FAQ.\\n\\nThe addresses displayed below are actually a valid copy of my public key.\\n\\nThis is a very basic issue of having a unique identifier. As']\n",
    "results = metric.compute(predictions=predictions, references=references)\n",
    "results"
   ]
  },
  {
   "cell_type": "markdown",
   "id": "f79bd133",
   "metadata": {},
   "source": [
    "### Example 1-2. Top 5 DMV Mistakes - Forgot to update the address (with dialogue history)"
   ]
  },
  {
   "cell_type": "code",
   "execution_count": 87,
   "id": "072146ef",
   "metadata": {},
   "outputs": [
    {
     "name": "stderr",
     "output_type": "stream",
     "text": [
      "Setting `pad_token_id` to `eos_token_id`:50256 for open-end generation.\n"
     ]
    },
    {
     "data": {
      "text/plain": [
       "[{'generated_text': \"user:Can you tell me more about Traffic points and their cost? agent:Sure. Any change of address must be reported to the DMV, that's for the address associated with your license and any of your vehicles. user:Ok, and can you tell me again where should I report my new address? agent:This happens often with our customers so that's why our website and MyDMV are so useful for our customers. Just check if you can make your transaction online so you don't have to go to the DMV Office. user:Thanks, and in case I forget to bring all of the documentation needed to the DMV office, what can I do? agent:Yes, you can sign up for MyDMV for all the online transactions needed. user:Can I do my DMV transactions online? agent:hi, you have to report any change of address to DMV within 10 days after moving. You should do this both for the address associated with your license and all the addresses associated with all your vehicles. user:Hello, I forgot o update my address, can you help me with that? agent:Good! User:I have a change of the address with my DMV. Please update the address as soon as possible to the location I'm reporting on. Any of the changes listed below, will affect my payment and service to you. User:Hello, I forgot to bring my new address. Thank you for contacting DMV. user:Can you use the registration forms for this\"},\n",
       " {'generated_text': \"user:Can you tell me more about Traffic points and their cost? agent:Sure. Any change of address must be reported to the DMV, that's for the address associated with your license and any of your vehicles. user:Ok, and can you tell me again where should I report my new address? agent:This happens often with our customers so that's why our website and MyDMV are so useful for our customers. Just check if you can make your transaction online so you don't have to go to the DMV Office. user:Thanks, and in case I forget to bring all of the documentation needed to the DMV office, what can I do? agent:Yes, you can sign up for MyDMV for all the online transactions needed. user:Can I do my DMV transactions online? agent:hi, you have to report any change of address to DMV within 10 days after moving. You should do this both for the address associated with your license and all the addresses associated with all your vehicles. user:Hello, I forgot o update my address, can you help me with that? agent:Ok, just do it. User:Hi, I want some documents so my new address is now. agent:I got them already. Good, now let me proceed. user:Thank you for the document and to any other questions you may have with the DMV, please do so more quickly. Thanks! agent:I can only take a portion of your documents and they\"},\n",
       " {'generated_text': \"user:Can you tell me more about Traffic points and their cost? agent:Sure. Any change of address must be reported to the DMV, that's for the address associated with your license and any of your vehicles. user:Ok, and can you tell me again where should I report my new address? agent:This happens often with our customers so that's why our website and MyDMV are so useful for our customers. Just check if you can make your transaction online so you don't have to go to the DMV Office. user:Thanks, and in case I forget to bring all of the documentation needed to the DMV office, what can I do? agent:Yes, you can sign up for MyDMV for all the online transactions needed. user:Can I do my DMV transactions online? agent:hi, you have to report any change of address to DMV within 10 days after moving. You should do this both for the address associated with your license and all the addresses associated with all your vehicles. user:Hello, I forgot o update my address, can you help me with that? agent:Ok, thanks man, now I just need to take my own ID and enter it into the MyDMV as well. user:Can you help me add your vehicle information to the MyDMV? agent:Ok so what do I do if I forget it? user:Can you help me fill out my new address? agent:Yeah, so what would you please\"},\n",
       " {'generated_text': \"user:Can you tell me more about Traffic points and their cost? agent:Sure. Any change of address must be reported to the DMV, that's for the address associated with your license and any of your vehicles. user:Ok, and can you tell me again where should I report my new address? agent:This happens often with our customers so that's why our website and MyDMV are so useful for our customers. Just check if you can make your transaction online so you don't have to go to the DMV Office. user:Thanks, and in case I forget to bring all of the documentation needed to the DMV office, what can I do? agent:Yes, you can sign up for MyDMV for all the online transactions needed. user:Can I do my DMV transactions online? agent:hi, you have to report any change of address to DMV within 10 days after moving. You should do this both for the address associated with your license and all the addresses associated with all your vehicles. user:Hello, I forgot o update my address, can you help me with that? agent:No problem, just need to go through each page and sign on the other side. user:Thanks! is there anything I can do to help you? agent:I would appreciate any information you can give me such as the address you moved from and where to find those addresses when we're on the road. user:Hi, I'm using an address in Canada for DMV\"},\n",
       " {'generated_text': \"user:Can you tell me more about Traffic points and their cost? agent:Sure. Any change of address must be reported to the DMV, that's for the address associated with your license and any of your vehicles. user:Ok, and can you tell me again where should I report my new address? agent:This happens often with our customers so that's why our website and MyDMV are so useful for our customers. Just check if you can make your transaction online so you don't have to go to the DMV Office. user:Thanks, and in case I forget to bring all of the documentation needed to the DMV office, what can I do? agent:Yes, you can sign up for MyDMV for all the online transactions needed. user:Can I do my DMV transactions online? agent:hi, you have to report any change of address to DMV within 10 days after moving. You should do this both for the address associated with your license and all the addresses associated with all your vehicles. user:Hello, I forgot o update my address, can you help me with that? agent:Yes, we can help with all the transactions required to make your vehicle and the vehicle registration online. user:Hello, I got an error when you log in. You cannot register for a specific driver's license. Can you provide me with information about that? agent:yes agent:And so we can help you with it, will you be able to sign up for My\"}]"
      ]
     },
     "execution_count": 87,
     "metadata": {},
     "output_type": "execute_result"
    }
   ],
   "source": [
    "from transformers import pipeline, set_seed\n",
    "generator = pipeline('text-generation', model='gpt2')\n",
    "set_seed(42)\n",
    "generator(\"user:Can you tell me more about Traffic points and their cost? agent:Sure. Any change of address must be reported to the DMV, that's for the address associated with your license and any of your vehicles. user:Ok, and can you tell me again where should I report my new address? agent:This happens often with our customers so that's why our website and MyDMV are so useful for our customers. Just check if you can make your transaction online so you don't have to go to the DMV Office. user:Thanks, and in case I forget to bring all of the documentation needed to the DMV office, what can I do? agent:Yes, you can sign up for MyDMV for all the online transactions needed. user:Can I do my DMV transactions online? agent:hi, you have to report any change of address to DMV within 10 days after moving. You should do this both for the address associated with your license and all the addresses associated with all your vehicles. user:Hello, I forgot o update my address, can you help me with that?\", \n",
    "          max_length=300, num_return_sequences=5)"
   ]
  },
  {
   "cell_type": "code",
   "execution_count": 99,
   "id": "ac8b9c41",
   "metadata": {},
   "outputs": [],
   "source": [
    "metric = load_metric(\"sacrebleu\")\n",
    "references = [[\"agent:DMV maintains a point system to track dangerous drivers. Often , motorists convicted of a traffic ticket feel they have resolved all their motoring issues with the local court, but later learn that the Driver Responsibility Assessment DRA is a separate DMV charge based on the total points they accumulate.\"]]"
   ]
  },
  {
   "cell_type": "code",
   "execution_count": 100,
   "id": "1ef743ff",
   "metadata": {},
   "outputs": [
    {
     "data": {
      "text/plain": [
       "{'score': 1.241004033856688,\n",
       " 'counts': [7, 1, 0, 0],\n",
       " 'totals': [25, 24, 23, 22],\n",
       " 'precisions': [28.0,\n",
       "  4.166666666666667,\n",
       "  2.1739130434782608,\n",
       "  1.1363636363636365],\n",
       " 'bp': 0.301194211912202,\n",
       " 'sys_len': 25,\n",
       " 'ref_len': 55}"
      ]
     },
     "execution_count": 100,
     "metadata": {},
     "output_type": "execute_result"
    }
   ],
   "source": [
    "predictions = [\"agent:Ok, thanks man, now I just need to take my own ID and enter it into the MyDMV as well.\"]\n",
    "results = metric.compute(predictions=predictions, references=references)\n",
    "results"
   ]
  },
  {
   "cell_type": "code",
   "execution_count": 101,
   "id": "1e0e8c53",
   "metadata": {},
   "outputs": [
    {
     "data": {
      "text/plain": [
       "{'score': 0.9902321088268243,\n",
       " 'counts': [7, 2, 0, 0],\n",
       " 'totals': [19, 18, 17, 16],\n",
       " 'precisions': [36.8421052631579,\n",
       "  11.11111111111111,\n",
       "  2.9411764705882355,\n",
       "  1.5625],\n",
       " 'bp': 0.15035789770837657,\n",
       " 'sys_len': 19,\n",
       " 'ref_len': 55}"
      ]
     },
     "execution_count": 101,
     "metadata": {},
     "output_type": "execute_result"
    }
   ],
   "source": [
    "predictions = [\"agent:No problem, just need to go through each page and sign on the other side.\"]\n",
    "results = metric.compute(predictions=predictions, references=references)\n",
    "results"
   ]
  },
  {
   "cell_type": "code",
   "execution_count": 102,
   "id": "a9d39524",
   "metadata": {},
   "outputs": [
    {
     "data": {
      "text/plain": [
       "{'score': 1.1226387140064022,\n",
       " 'counts': [9, 1, 0, 0],\n",
       " 'totals': [22, 21, 20, 19],\n",
       " 'precisions': [40.90909090909091, 4.761904761904762, 2.5, 1.3157894736842106],\n",
       " 'bp': 0.22313016014842982,\n",
       " 'sys_len': 22,\n",
       " 'ref_len': 55}"
      ]
     },
     "execution_count": 102,
     "metadata": {},
     "output_type": "execute_result"
    }
   ],
   "source": [
    "predictions = [\"agent:Yes, we can help with all the transactions required to make your vehicle and the vehicle registration online.\"]\n",
    "results = metric.compute(predictions=predictions, references=references)\n",
    "results"
   ]
  },
  {
   "cell_type": "markdown",
   "id": "2cd42fa3",
   "metadata": {},
   "source": [
    "### Example 2-1. Dial-in search accounts - Search records (without dialogue history)"
   ]
  },
  {
   "cell_type": "code",
   "execution_count": 84,
   "id": "b6b6d3a9",
   "metadata": {},
   "outputs": [
    {
     "name": "stderr",
     "output_type": "stream",
     "text": [
      "Setting `pad_token_id` to `eos_token_id`:50256 for open-end generation.\n"
     ]
    },
    {
     "data": {
      "text/plain": [
       "[{'generated_text': \"Can I know if anybody asked for my records? No. No, I don't care what those documents say or do. We all had one —\"},\n",
       " {'generated_text': 'Can I know if anybody asked for my records? I really need such a person.\"\\n\\nKaepernick\\'s team was already on the losing end of'},\n",
       " {'generated_text': \"Can I know if anybody asked for my records? [Laughs] I don't think so. [Laughs] [Laughs] You never look, as\"},\n",
       " {'generated_text': 'Can I know if anybody asked for my records?\\n\\n\"I am sorry. I think it\\'s been a long time, but I think I'},\n",
       " {'generated_text': \"Can I know if anybody asked for my records? Not that I would be surprised if I did, but it's a different case. I'm curious\"}]"
      ]
     },
     "execution_count": 84,
     "metadata": {},
     "output_type": "execute_result"
    }
   ],
   "source": [
    "generator(\"Can I know if anybody asked for my records?\", \n",
    "          max_length=30, num_return_sequences=5)"
   ]
  },
  {
   "cell_type": "code",
   "execution_count": 118,
   "id": "ebc54177",
   "metadata": {},
   "outputs": [],
   "source": [
    "metric = load_metric(\"sacrebleu\")\n",
    "references = [[\"Records of searches are public records.\"]]"
   ]
  },
  {
   "cell_type": "code",
   "execution_count": 119,
   "id": "ebe8e12c",
   "metadata": {},
   "outputs": [
    {
     "data": {
      "text/plain": [
       "{'score': 2.0244462660665508,\n",
       " 'counts': [1, 0, 0, 0],\n",
       " 'totals': [19, 18, 17, 16],\n",
       " 'precisions': [5.2631578947368425,\n",
       "  2.7777777777777777,\n",
       "  1.4705882352941178,\n",
       "  0.78125],\n",
       " 'bp': 1.0,\n",
       " 'sys_len': 19,\n",
       " 'ref_len': 7}"
      ]
     },
     "execution_count": 119,
     "metadata": {},
     "output_type": "execute_result"
    }
   ],
   "source": [
    "predictions = [\"No. No, I don't care what those documents say or do. We all had one —\"]\n",
    "results = metric.compute(predictions=predictions, references=references)\n",
    "results"
   ]
  },
  {
   "cell_type": "code",
   "execution_count": 120,
   "id": "ba2d8357",
   "metadata": {},
   "outputs": [
    {
     "data": {
      "text/plain": [
       "{'score': 2.908317710573757,\n",
       " 'counts': [2, 0, 0, 0],\n",
       " 'totals': [16, 15, 14, 13],\n",
       " 'precisions': [12.5,\n",
       "  3.3333333333333335,\n",
       "  1.7857142857142858,\n",
       "  0.9615384615384616],\n",
       " 'bp': 1.0,\n",
       " 'sys_len': 16,\n",
       " 'ref_len': 7}"
      ]
     },
     "execution_count": 120,
     "metadata": {},
     "output_type": "execute_result"
    }
   ],
   "source": [
    "predictions = [\"I really need such a person.\\n\\nKaepernick\\'s team was already on the losing end of\"]\n",
    "results = metric.compute(predictions=predictions, references=references)\n",
    "results"
   ]
  },
  {
   "cell_type": "code",
   "execution_count": 121,
   "id": "a9c6cf2c",
   "metadata": {},
   "outputs": [
    {
     "data": {
      "text/plain": [
       "{'score': 2.1476912089159055,\n",
       " 'counts': [1, 0, 0, 0],\n",
       " 'totals': [18, 17, 16, 15],\n",
       " 'precisions': [5.555555555555555,\n",
       "  2.9411764705882355,\n",
       "  1.5625,\n",
       "  0.8333333333333334],\n",
       " 'bp': 1.0,\n",
       " 'sys_len': 18,\n",
       " 'ref_len': 7}"
      ]
     },
     "execution_count": 121,
     "metadata": {},
     "output_type": "execute_result"
    }
   ],
   "source": [
    "predictions = [\"Not that I would be surprised if I did, but it's a different case. I'm curious\"]\n",
    "results = metric.compute(predictions=predictions, references=references)\n",
    "results"
   ]
  },
  {
   "cell_type": "markdown",
   "id": "9d26d553",
   "metadata": {},
   "source": [
    "### with 'user:' at prompt - better score"
   ]
  },
  {
   "cell_type": "code",
   "execution_count": 103,
   "id": "71482e7e",
   "metadata": {},
   "outputs": [
    {
     "name": "stderr",
     "output_type": "stream",
     "text": [
      "Setting `pad_token_id` to `eos_token_id`:50256 for open-end generation.\n"
     ]
    },
    {
     "data": {
      "text/plain": [
       "[{'generated_text': 'user:Can I know if anybody asked for my records?\\n\\nMr Robot: I guess not.\\n\\nDr. Robot: Well, maybe'},\n",
       " {'generated_text': 'user:Can I know if anybody asked for my records?\\n\\n: If the answer is \"yes\", then the server must be able to see'},\n",
       " {'generated_text': \"user:Can I know if anybody asked for my records?\\n\\nMARTIN: I think you'll get the full answer as soon as you\"},\n",
       " {'generated_text': \"user:Can I know if anybody asked for my records?\\n\\n\\nReply 1: Yes, she's an authorized user at www.favicon\"},\n",
       " {'generated_text': 'user:Can I know if anybody asked for my records?\\n\\nMr. Smith: There should be a record of my relationship with you.\\n'}]"
      ]
     },
     "execution_count": 103,
     "metadata": {},
     "output_type": "execute_result"
    }
   ],
   "source": [
    "generator(\"user:Can I know if anybody asked for my records?\", \n",
    "          max_length=30, num_return_sequences=5)"
   ]
  },
  {
   "cell_type": "code",
   "execution_count": 109,
   "id": "5dd689af",
   "metadata": {},
   "outputs": [],
   "source": [
    "metric = load_metric(\"sacrebleu\")\n",
    "references = [[\"agent:Records of searches are public records.\"]]"
   ]
  },
  {
   "cell_type": "code",
   "execution_count": 110,
   "id": "73488266",
   "metadata": {},
   "outputs": [
    {
     "data": {
      "text/plain": [
       "{'score': 3.377156414337854,\n",
       " 'counts': [2, 0, 0, 0],\n",
       " 'totals': [14, 13, 12, 11],\n",
       " 'precisions': [14.285714285714286,\n",
       "  3.8461538461538463,\n",
       "  2.0833333333333335,\n",
       "  1.1363636363636365],\n",
       " 'bp': 1.0,\n",
       " 'sys_len': 14,\n",
       " 'ref_len': 9}"
      ]
     },
     "execution_count": 110,
     "metadata": {},
     "output_type": "execute_result"
    }
   ],
   "source": [
    "predictions = [\"Mr Robot: I guess not.\\n\\nDr. Robot: Well, maybe\"]\n",
    "results = metric.compute(predictions=predictions, references=references)\n",
    "results"
   ]
  },
  {
   "cell_type": "code",
   "execution_count": 112,
   "id": "11215dc9",
   "metadata": {},
   "outputs": [
    {
     "data": {
      "text/plain": [
       "{'score': 2.627961710408444,\n",
       " 'counts': [1, 0, 0, 0],\n",
       " 'totals': [15, 14, 13, 12],\n",
       " 'precisions': [6.666666666666667,\n",
       "  3.5714285714285716,\n",
       "  1.9230769230769231,\n",
       "  1.0416666666666667],\n",
       " 'bp': 1.0,\n",
       " 'sys_len': 15,\n",
       " 'ref_len': 9}"
      ]
     },
     "execution_count": 112,
     "metadata": {},
     "output_type": "execute_result"
    }
   ],
   "source": [
    "predictions = [\": If the answer is 'yes', then the server must be able to see\"]\n",
    "results = metric.compute(predictions=predictions, references=references)\n",
    "results"
   ]
  },
  {
   "cell_type": "code",
   "execution_count": 115,
   "id": "4f4e00f4",
   "metadata": {},
   "outputs": [
    {
     "data": {
      "text/plain": [
       "{'score': 3.0890553181566975,\n",
       " 'counts': [1, 0, 0, 0],\n",
       " 'totals': [13, 12, 11, 10],\n",
       " 'precisions': [7.6923076923076925,\n",
       "  4.166666666666667,\n",
       "  2.272727272727273,\n",
       "  1.25],\n",
       " 'bp': 1.0,\n",
       " 'sys_len': 13,\n",
       " 'ref_len': 9}"
      ]
     },
     "execution_count": 115,
     "metadata": {},
     "output_type": "execute_result"
    }
   ],
   "source": [
    "predictions = [\"MARTIN: I think you'll get the full answer as soon as you\"]\n",
    "results = metric.compute(predictions=predictions, references=references)\n",
    "results"
   ]
  },
  {
   "cell_type": "code",
   "execution_count": 116,
   "id": "b6ba4018",
   "metadata": {},
   "outputs": [
    {
     "data": {
      "text/plain": [
       "{'score': 3.673526562988939,\n",
       " 'counts': [2, 0, 0, 0],\n",
       " 'totals': [13, 12, 11, 10],\n",
       " 'precisions': [15.384615384615385,\n",
       "  4.166666666666667,\n",
       "  2.272727272727273,\n",
       "  1.25],\n",
       " 'bp': 1.0,\n",
       " 'sys_len': 13,\n",
       " 'ref_len': 9}"
      ]
     },
     "execution_count": 116,
     "metadata": {},
     "output_type": "execute_result"
    }
   ],
   "source": [
    "predictions = [\"Reply 1: Yes, she's an authorized user at www.favicon\"]\n",
    "results = metric.compute(predictions=predictions, references=references)\n",
    "results"
   ]
  },
  {
   "cell_type": "code",
   "execution_count": 117,
   "id": "d19695d1",
   "metadata": {},
   "outputs": [
    {
     "data": {
      "text/plain": [
       "{'score': 3.4585921141027356,\n",
       " 'counts': [3, 0, 0, 0],\n",
       " 'totals': [15, 14, 13, 12],\n",
       " 'precisions': [20.0,\n",
       "  3.5714285714285716,\n",
       "  1.9230769230769231,\n",
       "  1.0416666666666667],\n",
       " 'bp': 1.0,\n",
       " 'sys_len': 15,\n",
       " 'ref_len': 9}"
      ]
     },
     "execution_count": 117,
     "metadata": {},
     "output_type": "execute_result"
    }
   ],
   "source": [
    "predictions = [\"Mr. Smith: There should be a record of my relationship with you.\"]\n",
    "results = metric.compute(predictions=predictions, references=references)\n",
    "results"
   ]
  },
  {
   "cell_type": "markdown",
   "id": "e6b7559d",
   "metadata": {},
   "source": [
    "### Example 2-2. Dial-in search accounts - Search records (with dialogue history)"
   ]
  },
  {
   "cell_type": "code",
   "execution_count": 65,
   "id": "ec49670c",
   "metadata": {},
   "outputs": [
    {
     "name": "stderr",
     "output_type": "stream",
     "text": [
      "Setting `pad_token_id` to `eos_token_id`:50256 for open-end generation.\n"
     ]
    },
    {
     "data": {
      "text/plain": [
       "[{'generated_text': \"user:Just to check the address of contact is correct please tell me if this is the right one: NYSDMV DIAL - IN AccountsRoom 2316 Empire State PlazaAlbany , NY 12228 473 - 2137 agent:We can supply you with the name and business address of the Dial-In account holder and the time, date and search criteria they used for the records. user:What info can you give me about those that search for my DMV records? agent:First, you should update your browser to its newest version available. user:What should I do if your site says my browser is not compatible?. agent:ok our mail address for dial-in search account related problems is NYSDMV DIAL - IN AccountsRoom 2316 Empire State PlazaAlbany , NY 12228 473 - 2137 user:Sorry, it looks like my chat didn't show your message well, can you please how to tell me how to contact DMV about my dial-in search account. agent:Our contact address for that is NYSDMV DIAL - IN AccountsRoom 2316 Empire State PlazaAlbany , NY 12228 473 - 2137e - mail user:I need to contact DMV about my dial-in search account agent:You should visit https://encryption.ny.gov/ to check the compatibility of your website and if it says that is not compatible, please update your browser. user:it looks like my browser is not compatible with your website. agent:Yes, since the records of searches are public we'll inform any motorist if his records were searched. user:Can I know if anybody asked for my records? I can ask you to forward the records if anyone asks the same address, or the same email address. agent:My computer is now functioning fine. It's a web browser, you may open, navigate, click, type, click the email or mail, if you are browsing the\"},\n",
       " {'generated_text': \"user:Just to check the address of contact is correct please tell me if this is the right one: NYSDMV DIAL - IN AccountsRoom 2316 Empire State PlazaAlbany , NY 12228 473 - 2137 agent:We can supply you with the name and business address of the Dial-In account holder and the time, date and search criteria they used for the records. user:What info can you give me about those that search for my DMV records? agent:First, you should update your browser to its newest version available. user:What should I do if your site says my browser is not compatible?. agent:ok our mail address for dial-in search account related problems is NYSDMV DIAL - IN AccountsRoom 2316 Empire State PlazaAlbany , NY 12228 473 - 2137 user:Sorry, it looks like my chat didn't show your message well, can you please how to tell me how to contact DMV about my dial-in search account. agent:Our contact address for that is NYSDMV DIAL - IN AccountsRoom 2316 Empire State PlazaAlbany , NY 12228 473 - 2137e - mail user:I need to contact DMV about my dial-in search account agent:You should visit https://encryption.ny.gov/ to check the compatibility of your website and if it says that is not compatible, please update your browser. user:it looks like my browser is not compatible with your website. agent:Yes, since the records of searches are public we'll inform any motorist if his records were searched. user:Can I know if anybody asked for my records?. agent:no, they will need to look for their contacts and we'll do it for them. user:How should I find people that request my information?. agent:look for someone that uses your website but do not use it for the same purpose with the phone number and\"},\n",
       " {'generated_text': \"user:Just to check the address of contact is correct please tell me if this is the right one: NYSDMV DIAL - IN AccountsRoom 2316 Empire State PlazaAlbany , NY 12228 473 - 2137 agent:We can supply you with the name and business address of the Dial-In account holder and the time, date and search criteria they used for the records. user:What info can you give me about those that search for my DMV records? agent:First, you should update your browser to its newest version available. user:What should I do if your site says my browser is not compatible?. agent:ok our mail address for dial-in search account related problems is NYSDMV DIAL - IN AccountsRoom 2316 Empire State PlazaAlbany , NY 12228 473 - 2137 user:Sorry, it looks like my chat didn't show your message well, can you please how to tell me how to contact DMV about my dial-in search account. agent:Our contact address for that is NYSDMV DIAL - IN AccountsRoom 2316 Empire State PlazaAlbany , NY 12228 473 - 2137e - mail user:I need to contact DMV about my dial-in search account agent:You should visit https://encryption.ny.gov/ to check the compatibility of your website and if it says that is not compatible, please update your browser. user:it looks like my browser is not compatible with your website. agent:Yes, since the records of searches are public we'll inform any motorist if his records were searched. user:Can I know if anybody asked for my records? agent:Ok, thanks man, now I just need to check my status\\n\\nThank you.\"},\n",
       " {'generated_text': \"user:Just to check the address of contact is correct please tell me if this is the right one: NYSDMV DIAL - IN AccountsRoom 2316 Empire State PlazaAlbany , NY 12228 473 - 2137 agent:We can supply you with the name and business address of the Dial-In account holder and the time, date and search criteria they used for the records. user:What info can you give me about those that search for my DMV records? agent:First, you should update your browser to its newest version available. user:What should I do if your site says my browser is not compatible?. agent:ok our mail address for dial-in search account related problems is NYSDMV DIAL - IN AccountsRoom 2316 Empire State PlazaAlbany , NY 12228 473 - 2137 user:Sorry, it looks like my chat didn't show your message well, can you please how to tell me how to contact DMV about my dial-in search account. agent:Our contact address for that is NYSDMV DIAL - IN AccountsRoom 2316 Empire State PlazaAlbany , NY 12228 473 - 2137e - mail user:I need to contact DMV about my dial-in search account agent:You should visit https://encryption.ny.gov/ to check the compatibility of your website and if it says that is not compatible, please update your browser. user:it looks like my browser is not compatible with your website. agent:Yes, since the records of searches are public we'll inform any motorist if his records were searched. user:Can I know if anybody asked for my records?. agent:Yes, if you use our system of checks and balances on the other websites we are using this is your first step, if you use any other search providers, you need to contact us. user:I was told for my records to come back online and when I looked\"},\n",
       " {'generated_text': \"user:Just to check the address of contact is correct please tell me if this is the right one: NYSDMV DIAL - IN AccountsRoom 2316 Empire State PlazaAlbany , NY 12228 473 - 2137 agent:We can supply you with the name and business address of the Dial-In account holder and the time, date and search criteria they used for the records. user:What info can you give me about those that search for my DMV records? agent:First, you should update your browser to its newest version available. user:What should I do if your site says my browser is not compatible?. agent:ok our mail address for dial-in search account related problems is NYSDMV DIAL - IN AccountsRoom 2316 Empire State PlazaAlbany , NY 12228 473 - 2137 user:Sorry, it looks like my chat didn't show your message well, can you please how to tell me how to contact DMV about my dial-in search account. agent:Our contact address for that is NYSDMV DIAL - IN AccountsRoom 2316 Empire State PlazaAlbany , NY 12228 473 - 2137e - mail user:I need to contact DMV about my dial-in search account agent:You should visit https://encryption.ny.gov/ to check the compatibility of your website and if it says that is not compatible, please update your browser. user:it looks like my browser is not compatible with your website. agent:Yes, since the records of searches are public we'll inform any motorist if his records were searched. user:Can I know if anybody asked for my records? agent:Yes, we'll go to the DMV office to provide you with your name and the number of the person asking contact. user:I would like to log in. You can do it on the phone or just send me an email where we can work out the details. If\"}]"
      ]
     },
     "execution_count": 65,
     "metadata": {},
     "output_type": "execute_result"
    }
   ],
   "source": [
    "generator(\"user:Just to check the address of contact is correct please tell me if this is the right one: NYSDMV DIAL - IN AccountsRoom 2316 Empire State PlazaAlbany , NY 12228 473 - 2137 agent:We can supply you with the name and business address of the Dial-In account holder and the time, date and search criteria they used for the records. user:What info can you give me about those that search for my DMV records? agent:First, you should update your browser to its newest version available. user:What should I do if your site says my browser is not compatible?. agent:ok our mail address for dial-in search account related problems is NYSDMV DIAL - IN AccountsRoom 2316 Empire State PlazaAlbany , NY 12228 473 - 2137 user:Sorry, it looks like my chat didn't show your message well, can you please how to tell me how to contact DMV about my dial-in search account. agent:Our contact address for that is NYSDMV DIAL - IN AccountsRoom 2316 Empire State PlazaAlbany , NY 12228 473 - 2137e - mail user:I need to contact DMV about my dial-in search account agent:You should visit https://encryption.ny.gov/ to check the compatibility of your website and if it says that is not compatible, please update your browser. user:it looks like my browser is not compatible with your website. agent:Yes, since the records of searches are public we'll inform any motorist if his records were searched. user:Can I know if anybody asked for my records?\", \n",
    "          max_length=400, num_return_sequences=5)"
   ]
  },
  {
   "cell_type": "code",
   "execution_count": 75,
   "id": "318ce320",
   "metadata": {},
   "outputs": [
    {
     "data": {
      "text/plain": [
       "{'score': 0.9702695924258076,\n",
       " 'counts': [5, 0, 0, 0],\n",
       " 'totals': [56, 55, 54, 53],\n",
       " 'precisions': [8.928571428571429,\n",
       "  0.9090909090909091,\n",
       "  0.46296296296296297,\n",
       "  0.2358490566037736],\n",
       " 'bp': 1.0,\n",
       " 'sys_len': 56,\n",
       " 'ref_len': 31}"
      ]
     },
     "execution_count": 75,
     "metadata": {},
     "output_type": "execute_result"
    }
   ],
   "source": [
    "metric = load_metric(\"sacrebleu\")\n",
    "#print(metric)\n",
    "predictions = [\"I can ask you to forward the records if anyone asks the same address, or the same email address. agent:My computer is now functioning fine. It's a web browser, you may open, navigate, click, type, click the email or mail, if you are browsing the\"]\n",
    "references = [[\"agent:You can contact us at: NYSDMV DIAL - IN AccountsRoom 2316 Empire State PlazaAlbany, NY 12228 473 - 2137e - mail: [email protected] [5 ] \"]]\n",
    "results = metric.compute(predictions=predictions, references=references)\n",
    "results"
   ]
  },
  {
   "cell_type": "code",
   "execution_count": 67,
   "id": "99bf83c0",
   "metadata": {},
   "outputs": [
    {
     "data": {
      "text/plain": [
       "{'score': 0.8699141688737136,\n",
       " 'counts': [3, 0, 0, 0],\n",
       " 'totals': [55, 54, 53, 52],\n",
       " 'precisions': [5.454545454545454,\n",
       "  0.9259259259259259,\n",
       "  0.4716981132075472,\n",
       "  0.2403846153846154],\n",
       " 'bp': 1.0,\n",
       " 'sys_len': 55,\n",
       " 'ref_len': 31}"
      ]
     },
     "execution_count": 67,
     "metadata": {},
     "output_type": "execute_result"
    }
   ],
   "source": [
    "predictions = [\"agent:no, they will need to look for their contacts and we'll do it for them. user:How should I find people that request my information?. agent:look for someone that uses your website but do not use it for the same purpose with the phone number and\"]\n",
    "results = metric.compute(predictions=predictions, references=references)\n",
    "results"
   ]
  },
  {
   "cell_type": "code",
   "execution_count": 70,
   "id": "841318aa",
   "metadata": {},
   "outputs": [
    {
     "data": {
      "text/plain": [
       "{'score': 1.2404298611265816,\n",
       " 'counts': [2, 0, 0, 0],\n",
       " 'totals': [18, 17, 16, 15],\n",
       " 'precisions': [11.11111111111111,\n",
       "  2.9411764705882355,\n",
       "  1.5625,\n",
       "  0.8333333333333334],\n",
       " 'bp': 0.4856717852477123,\n",
       " 'sys_len': 18,\n",
       " 'ref_len': 31}"
      ]
     },
     "execution_count": 70,
     "metadata": {},
     "output_type": "execute_result"
    }
   ],
   "source": [
    "predictions = [\"agent:Ok, thanks man, now I just need to check my status\\n\\nThank you.\"]\n",
    "results = metric.compute(predictions=predictions, references=references)\n",
    "results"
   ]
  },
  {
   "cell_type": "code",
   "execution_count": 77,
   "id": "cc6f0ebc",
   "metadata": {},
   "outputs": [
    {
     "data": {
      "text/plain": [
       "{'score': 2.185068324154416,\n",
       " 'counts': [4, 1, 0, 0],\n",
       " 'totals': [40, 39, 38, 37],\n",
       " 'precisions': [10.0,\n",
       "  2.5641025641025643,\n",
       "  1.3157894736842106,\n",
       "  0.6756756756756757],\n",
       " 'bp': 1.0,\n",
       " 'sys_len': 40,\n",
       " 'ref_len': 31}"
      ]
     },
     "execution_count": 77,
     "metadata": {},
     "output_type": "execute_result"
    }
   ],
   "source": [
    "predictions = [\"agent:Yes, if you use our system of checks and balances on the other websites we are using this is your first step, if you use any other search providers, you need to contact us.\"]\n",
    "results = metric.compute(predictions=predictions, references=references)\n",
    "results"
   ]
  },
  {
   "cell_type": "code",
   "execution_count": 78,
   "id": "64e4e612",
   "metadata": {},
   "outputs": [
    {
     "data": {
      "text/plain": [
       "{'score': 1.5592982903541592,\n",
       " 'counts': [3, 0, 0, 0],\n",
       " 'totals': [25, 24, 23, 22],\n",
       " 'precisions': [12.0,\n",
       "  2.0833333333333335,\n",
       "  1.0869565217391304,\n",
       "  0.5681818181818182],\n",
       " 'bp': 0.7866278610665535,\n",
       " 'sys_len': 25,\n",
       " 'ref_len': 31}"
      ]
     },
     "execution_count": 78,
     "metadata": {},
     "output_type": "execute_result"
    }
   ],
   "source": [
    "predictions = [\"agent:Yes, we'll go to the DMV office to provide you with your name and the number of the person asking contact.\"]\n",
    "results = metric.compute(predictions=predictions, references=references)\n",
    "results"
   ]
  },
  {
   "cell_type": "markdown",
   "id": "0d52944f",
   "metadata": {},
   "source": [
    "## 2. Transformer XLNet"
   ]
  },
  {
   "cell_type": "markdown",
   "id": "64127fc9",
   "metadata": {},
   "source": [
    "### Example 1-1. Top 5 DMV Mistakes - Forgot to update the address (without dialogue history) - better score"
   ]
  },
  {
   "cell_type": "code",
   "execution_count": 39,
   "id": "c7c7bfde",
   "metadata": {},
   "outputs": [
    {
     "name": "stdout",
     "output_type": "stream",
     "text": [
      "Hello, I forgot o update my address, can you help me with that?I am an auto insurer and want to work with your DMV. If you can t find a DMV office that will accept this change to your new address, then I will call you or write to the DMV Office. Once\n"
     ]
    }
   ],
   "source": [
    "from transformers import AutoModelForCausalLM, AutoTokenizer\n",
    "\n",
    "model = AutoModelForCausalLM.from_pretrained(\"xlnet-base-cased\")\n",
    "tokenizer = AutoTokenizer.from_pretrained(\"xlnet-base-cased\")\n",
    "\n",
    "# Padding text helps XLNet with short prompts - proposed by Aman Rusia in https://github.com/rusiaaman/XLNet-gen#methodology\n",
    "PADDING_TEXT = \"Many DMV customers make easily avoidable mistakes that cause them significant problems, including encounters with law enforcement and impounded vehicles. Because we see customers make these mistakes over and over again , we are issuing this list of the top five DMV mistakes and how to avoid them. 1. Forgetting to Update Address By statute , you must report a change of address to DMV within ten days of moving. That is the case for the address associated with your license, as well as all the addresses associated with each registered vehicle, which may differ. It is not sufficient to only: write your new address on the back of your old license; tell the United States Postal Service; or inform the police officer writing you a ticket. If you fail to keep your address current , you will miss a suspension order and may be charged with operating an unregistered vehicle and/or aggravated unlicensed operation, both misdemeanors. This really happens , but the good news is this is a problem that is easily avoidable. Learn more about how to change the address on your license and registrations [1 ] 2. Leaving the State Without Notifying DMV States communicate with each other , so when you move to another state, be sure to tie up any loose ends regarding your New York State license or registration. That means resolving any unanswered tickets, suspensions or revocations, and surrendering your license plates to NYS when you get to your new home state. A license suspension or revocation here could mean that your new home state will not issue you a license there. Remember , it is important to notify DMV of your new address so that any possible mail correspondence can reach you. Also , turning in your plates is important to avoid an insurance lapse. 3. Letting Insurance Lapse Because we all pay indirectly for crashes involving uninsured motorists , New York State requires every motorist to maintain auto insurance every single day a vehicle is registered. DMV works with insurance companies to electronically monitor your insurance coverage , and we know when coverage is dropped for any reason. When that happens , we mail you an insurance inquiry letter to allow you to clear up the problem. We send 500,000 inquiry letters a year. If the inquiry letter does not resolve the problem , we must suspend the vehicle registration and , if it persists, your driver license!We suspend 300,000 registrations a year for failure to maintain insurance. If you fail to maintain an updated address with us , you won t learn that you have an insurance problem , and we will suspend your registration and license. Make sure you turn in your vehicle s license plates at DMV before you cancel your insurance policy. Insurance policies must be from a company licensed in New York State. Learn more about Insurances Lapes [2] and How to Surrender your Plates [3 ] 4. Understanding how Much Traffic Points Cost DMV maintains a point system to track dangerous drivers. Often , motorists convicted of a traffic ticket feel they have resolved all their motoring issues with the local court, but later learn that the Driver Responsibility Assessment DRA is a separate DMV charge based on the total points they accumulate. The $300 DRA fee can be paid in $100 annual installments over three years. Motorists who fail to maintain an updated address with DMV may resolve their tickets with the court, but never receive their DRA assessment because we do not have their new address on record. Failure to pay the DRA will result in a suspended license. Learn more about About the NYS Driver Point System [4] and how to Pay Driver Responsibility Assessment [5 ] 5. Not Bringing Proper Documentation to DMV Office About ten percent of customers visiting a DMV office do not bring what they need to complete their transaction, and have to come back a second time to finish their business. This can be as simple as not bringing sufficient funds to pay for a license renewal or not having the proof of auto insurance required to register a car. Better yet , don t visit a DMV office at all, and see if your transaction can be performed online, like an address change, registration renewal, license renewal, replacing a lost title, paying a DRA or scheduling a road test. Our award - winning website is recognized as one of the best in the nation. It has all the answers you need to efficiently perform any DMV transaction. Consider signing up for our MyDMV service, which offers even more benefits. Sign up or log into MyDMV [6 ]\"\n",
    "\n",
    "prompt = \"Hello, I forgot o update my address, can you help me with that?\"\n",
    "inputs = tokenizer(PADDING_TEXT + prompt, add_special_tokens=False, return_tensors=\"pt\")[\"input_ids\"]\n",
    "\n",
    "prompt_length = len(tokenizer.decode(inputs[0]))\n",
    "outputs = model.generate(inputs, max_length=1250, do_sample=True, top_p=0.95, top_k=60)\n",
    "generated = prompt + tokenizer.decode(outputs[0])[prompt_length + 1 :]\n",
    "\n",
    "print(generated)"
   ]
  },
  {
   "cell_type": "code",
   "execution_count": 51,
   "id": "4e614d36",
   "metadata": {},
   "outputs": [
    {
     "data": {
      "text/plain": [
       "{'score': 2.604859149269604,\n",
       " 'counts': [12, 1, 0, 0],\n",
       " 'totals': [44, 43, 42, 41],\n",
       " 'precisions': [27.272727272727273,\n",
       "  2.3255813953488373,\n",
       "  1.1904761904761905,\n",
       "  0.6097560975609756],\n",
       " 'bp': 1.0,\n",
       " 'sys_len': 44,\n",
       " 'ref_len': 43}"
      ]
     },
     "execution_count": 51,
     "metadata": {},
     "output_type": "execute_result"
    }
   ],
   "source": [
    "from datasets import load_metric\n",
    "metric = load_metric(\"sacrebleu\")\n",
    "#print(metric)\n",
    "predictions = [\"I am an auto insurer and want to work with your DMV. If you can t find a DMV office that will accept this change to your new address, then I will call you or write to the DMV Office. Once\"]\n",
    "references = [[\"you must report a change of address to DMV within ten days of moving. That is the case for the address associated with your license, as well as all the addresses associated with each registered vehicle, which may differ.\"]]\n",
    "results = metric.compute(predictions=predictions, references=references)\n",
    "results"
   ]
  },
  {
   "cell_type": "markdown",
   "id": "47a6406a",
   "metadata": {},
   "source": [
    "### compare with 'user:' at the beginning of prompt - worse score"
   ]
  },
  {
   "cell_type": "code",
   "execution_count": 94,
   "id": "b27a4e98",
   "metadata": {},
   "outputs": [
    {
     "name": "stdout",
     "output_type": "stream",
     "text": [
      "user:Hello, I forgot o update my address, can you help me with that?eop> Thank you for your patience in answering my questions. When you find yourself returning to this page, please let us know the correct address is found. Contact us at: Your Application [8 ] Refresh your password and return to your 'home page' when you return to the previous page. The link in the message will continue to appear as an\n"
     ]
    }
   ],
   "source": [
    "prompt = \"user:Hello, I forgot o update my address, can you help me with that?\"\n",
    "inputs = tokenizer(PADDING_TEXT + prompt, add_special_tokens=False, return_tensors=\"pt\")[\"input_ids\"]\n",
    "\n",
    "prompt_length = len(tokenizer.decode(inputs[0]))\n",
    "outputs = model.generate(inputs, max_length=1195, do_sample=True, top_p=0.95, top_k=60)\n",
    "generated = prompt + tokenizer.decode(outputs[0])[prompt_length + 1 :]\n",
    "\n",
    "print(generated)"
   ]
  },
  {
   "cell_type": "code",
   "execution_count": 124,
   "id": "33585965",
   "metadata": {},
   "outputs": [
    {
     "data": {
      "text/plain": [
       "{'score': 1.2037720688339202,\n",
       " 'counts': [11, 0, 0, 0],\n",
       " 'totals': [55, 54, 53, 52],\n",
       " 'precisions': [20.0,\n",
       "  0.9259259259259259,\n",
       "  0.4716981132075472,\n",
       "  0.2403846153846154],\n",
       " 'bp': 1.0,\n",
       " 'sys_len': 55,\n",
       " 'ref_len': 43}"
      ]
     },
     "execution_count": 124,
     "metadata": {},
     "output_type": "execute_result"
    }
   ],
   "source": [
    "# max length 1195\n",
    "predictions = [\"Thank you for your patience in answering my questions. When you find yourself returning to this page, please let us know the correct address is found. Contact us at: Your Application [8 ] Refresh your password and return to your 'home page' when you return to the previous page.\"]\n",
    "references = [[\"you must report a change of address to DMV within ten days of moving. That is the case for the address associated with your license, as well as all the addresses associated with each registered vehicle, which may differ.\"]]\n",
    "results = metric.compute(predictions=predictions, references=references)\n",
    "results"
   ]
  },
  {
   "cell_type": "code",
   "execution_count": 95,
   "id": "66e1a725",
   "metadata": {},
   "outputs": [
    {
     "data": {
      "text/plain": [
       "{'score': 1.352914939815383,\n",
       " 'counts': [15, 1, 0, 0],\n",
       " 'totals': [88, 87, 86, 85],\n",
       " 'precisions': [17.045454545454547,\n",
       "  1.1494252873563218,\n",
       "  0.5813953488372093,\n",
       "  0.29411764705882354],\n",
       " 'bp': 1.0,\n",
       " 'sys_len': 88,\n",
       " 'ref_len': 43}"
      ]
     },
     "execution_count": 95,
     "metadata": {},
     "output_type": "execute_result"
    }
   ],
   "source": [
    "# max length 1230 - better score\n",
    "predictions = [\"No. We can send you the address you want to update you to. We can also send you the URL or message that you want to look up the address or message. If not, please contact us at: Intelli-File [7) - mail: [8 ] Please see our Webmaster's Privacy Policy, for more information on how to use the information we collect from your accounts. DMV may also contact you if you have questions about your search.\"]\n",
    "references = [[\"you must report a change of address to DMV within ten days of moving. That is the case for the address associated with your license, as well as all the addresses associated with each registered vehicle, which may differ.\"]]\n",
    "results = metric.compute(predictions=predictions, references=references)\n",
    "results"
   ]
  },
  {
   "cell_type": "markdown",
   "id": "b082c2d1",
   "metadata": {},
   "source": [
    "### Example 1-2. Top 5 DMV Mistakes - Forgot to update the address (with dialogue history)"
   ]
  },
  {
   "cell_type": "code",
   "execution_count": 125,
   "id": "e8df3ba2",
   "metadata": {},
   "outputs": [
    {
     "name": "stdout",
     "output_type": "stream",
     "text": [
      "user:Can you tell me more about Traffic points and their cost? agent:Sure. Any change of address must be reported to the DMV, that's for the address associated with your license and any of your vehicles. user:Ok, and can you tell me again where should I report my new address? agent:This happens often with our customers so that's why our website and MyDMV are so useful for our customers. Just check if you can make your transaction online so you don't have to go to the DMV Office. user:Thanks, and in case I forget to bring all of the documentation needed to the DMV office, what can I do? agent:Yes, you can sign up for MyDMV for all the online transactions needed. user:Can I do my DMV transactions online? agent:hi, you have to report any change of address to DMV within 10 days after moving. You should do this both for the address associated with your license and all the addresses associated with all your vehicles. user:Hello, I forgot o update my address, can you help me with that?agent: Yes, because DMV always knows where the wrong address is, the car has been stopped by the licensee and you won t learn that you have changed your address at DMV or at the U.S. Customs or Border Protection Offices.user:Of course, if you do not change your address at DMV, your license will be suspended on its expiration date. agent:No, this is not your fault. It depends on how you handled your driving. user:Yes, the information is there. agent:I get a lot of calls from drivers about their license, which are usually lost after - but our Service Management\n"
     ]
    }
   ],
   "source": [
    "PADDING_TEXT = \"Many DMV customers make easily avoidable mistakes that cause them significant problems, including encounters with law enforcement and impounded vehicles. Because we see customers make these mistakes over and over again , we are issuing this list of the top five DMV mistakes and how to avoid them. 1. Forgetting to Update Address By statute , you must report a change of address to DMV within ten days of moving. That is the case for the address associated with your license, as well as all the addresses associated with each registered vehicle, which may differ. It is not sufficient to only: write your new address on the back of your old license; tell the United States Postal Service; or inform the police officer writing you a ticket. If you fail to keep your address current , you will miss a suspension order and may be charged with operating an unregistered vehicle and/or aggravated unlicensed operation, both misdemeanors. This really happens , but the good news is this is a problem that is easily avoidable. Learn more about how to change the address on your license and registrations [1 ] 2. Leaving the State Without Notifying DMV States communicate with each other , so when you move to another state, be sure to tie up any loose ends regarding your New York State license or registration. That means resolving any unanswered tickets, suspensions or revocations, and surrendering your license plates to NYS when you get to your new home state. A license suspension or revocation here could mean that your new home state will not issue you a license there. Remember , it is important to notify DMV of your new address so that any possible mail correspondence can reach you. Also , turning in your plates is important to avoid an insurance lapse. 3. Letting Insurance Lapse Because we all pay indirectly for crashes involving uninsured motorists , New York State requires every motorist to maintain auto insurance every single day a vehicle is registered. DMV works with insurance companies to electronically monitor your insurance coverage , and we know when coverage is dropped for any reason. When that happens , we mail you an insurance inquiry letter to allow you to clear up the problem. We send 500,000 inquiry letters a year. If the inquiry letter does not resolve the problem , we must suspend the vehicle registration and , if it persists, your driver license!We suspend 300,000 registrations a year for failure to maintain insurance. If you fail to maintain an updated address with us , you won t learn that you have an insurance problem , and we will suspend your registration and license. Make sure you turn in your vehicle s license plates at DMV before you cancel your insurance policy. Insurance policies must be from a company licensed in New York State. Learn more about Insurances Lapes [2] and How to Surrender your Plates [3 ] 4. Understanding how Much Traffic Points Cost DMV maintains a point system to track dangerous drivers. Often , motorists convicted of a traffic ticket feel they have resolved all their motoring issues with the local court, but later learn that the Driver Responsibility Assessment DRA is a separate DMV charge based on the total points they accumulate. The $300 DRA fee can be paid in $100 annual installments over three years. Motorists who fail to maintain an updated address with DMV may resolve their tickets with the court, but never receive their DRA assessment because we do not have their new address on record. Failure to pay the DRA will result in a suspended license. Learn more about About the NYS Driver Point System [4] and how to Pay Driver Responsibility Assessment [5 ] 5. Not Bringing Proper Documentation to DMV Office About ten percent of customers visiting a DMV office do not bring what they need to complete their transaction, and have to come back a second time to finish their business. This can be as simple as not bringing sufficient funds to pay for a license renewal or not having the proof of auto insurance required to register a car. Better yet , don t visit a DMV office at all, and see if your transaction can be performed online, like an address change, registration renewal, license renewal, replacing a lost title, paying a DRA or scheduling a road test. Our award - winning website is recognized as one of the best in the nation. It has all the answers you need to efficiently perform any DMV transaction. Consider signing up for our MyDMV service, which offers even more benefits. Sign up or log into MyDMV [6 ]\"\n",
    "\n",
    "prompt = \"user:Can you tell me more about Traffic points and their cost? agent:Sure. Any change of address must be reported to the DMV, that's for the address associated with your license and any of your vehicles. user:Ok, and can you tell me again where should I report my new address? agent:This happens often with our customers so that's why our website and MyDMV are so useful for our customers. Just check if you can make your transaction online so you don't have to go to the DMV Office. user:Thanks, and in case I forget to bring all of the documentation needed to the DMV office, what can I do? agent:Yes, you can sign up for MyDMV for all the online transactions needed. user:Can I do my DMV transactions online? agent:hi, you have to report any change of address to DMV within 10 days after moving. You should do this both for the address associated with your license and all the addresses associated with all your vehicles. user:Hello, I forgot o update my address, can you help me with that?\"\n",
    "inputs = tokenizer(PADDING_TEXT + prompt, add_special_tokens=False, return_tensors=\"pt\")[\"input_ids\"]\n",
    "\n",
    "prompt_length = len(tokenizer.decode(inputs[0]))\n",
    "outputs = model.generate(inputs, max_length=1300, do_sample=True, top_p=0.95, top_k=60)\n",
    "generated = prompt + tokenizer.decode(outputs[0])[prompt_length + 1 :]\n",
    "\n",
    "print(generated)"
   ]
  },
  {
   "cell_type": "code",
   "execution_count": 127,
   "id": "d5f0043d",
   "metadata": {},
   "outputs": [
    {
     "data": {
      "text/plain": [
       "{'score': 2.1885021248128274,\n",
       " 'counts': [13, 1, 0, 0],\n",
       " 'totals': [48, 47, 46, 45],\n",
       " 'precisions': [27.083333333333332,\n",
       "  2.127659574468085,\n",
       "  1.0869565217391304,\n",
       "  0.5555555555555556],\n",
       " 'bp': 0.9010751057212905,\n",
       " 'sys_len': 48,\n",
       " 'ref_len': 53}"
      ]
     },
     "execution_count": 127,
     "metadata": {},
     "output_type": "execute_result"
    }
   ],
   "source": [
    "predictions = [\"agent: Yes, because DMV always knows where the wrong address is, the car has been stopped by the licensee and you won t learn that you have changed your address at DMV or at the U.S. Customs or Border Protection Offices.\"]\n",
    "references = [[\"DMV maintains a point system to track dangerous drivers. Often , motorists convicted of a traffic ticket feel they have resolved all their motoring issues with the local court, but later learn that the Driver Responsibility Assessment DRA is a separate DMV charge based on the total points they accumulate.\"]]\n",
    "results = metric.compute(predictions=predictions, references=references)\n",
    "results"
   ]
  },
  {
   "cell_type": "markdown",
   "id": "6731af09",
   "metadata": {},
   "source": [
    "### Example 2-1. Dial-in search accounts - Search records (without dialogue history)"
   ]
  },
  {
   "cell_type": "code",
   "execution_count": 128,
   "id": "99784af1",
   "metadata": {},
   "outputs": [
    {
     "name": "stdout",
     "output_type": "stream",
     "text": [
      "user:Can I know if anybody asked for my records?eop> Please contact us at : ( the search for information on DMV records may require an inquiry ).<eop> Contact an IRS clerk for a specific search request. We need the details that you provide. In order to confirm that you are eligible to submit records, we may need to obtain the information required to do so. We do not require data from your records. Information returned to your account will\n"
     ]
    }
   ],
   "source": [
    "PADDING_TEXT = \"Log On to DIAL - IN [1 ] What is a DIAL-IN search account and who can get one? If you regularly need to search DMV records for driver license, registration, vehicle title or insurance information , then DIAL - IN is the service you need. Our typical clients include attorneys, insurance and private investigators, process servers and building / site security personnel. See Drivers Privacy Protection Act DPPA [2] for more information about permissible uses of DMV records. How do I apply for an account? You should complete form Motor Vehicle Record Search Account Application PDF [3] MV-15D. The instructions are on the form. Send the form to : Data Services - New Search AccountNYS Department of Motor Vehicles6 Empire State PlazaAlbany, NY 12228 How will I know my application has been accepted? We will review your application. If you application is not complete , we will return your application with an explanation that will give you more instructions. If your application is complete , we will create an account for you. We will send you your account number and password. Your seven - digit account number will never change. You will enter this account number when you log in to the DIAL - IN system. Are there fees for using a DIAL-IN search account? According to the NYS Vehicle and Traffic Law , we must charge a fee to search DMV records. Private persons, commercial organizations, and not - for - profit organizations must pay a search fee. There is a fee of $7.00 for each search that you make with the DIAL - IN service. There are some organizations that are exempt from search fees. Any public organization, its officers, a volunteer fire company, a volunteer ambulance service, or a legal aid bureau or society or other private entity acting pursuant to section 722 of the New York State County Law, that makes a search for a public purpose, is exempt from the search fee. How do I pay DIAL-IN Search Account fees? Paying customers must include a deposit with the application. Your first deposit must be enough to pay for two months of searches. When we accept your application , your deposit is added to your new account balance. When you make a search , we subtract the search fee from your account balance. Payment by credit card is NOT available at this time. You can use your account to pay for the mail - order searches and the online searches. If you must pay a fee for the service , your account records will reflect your debits and your credits and show your account balance. For more information , please visit our Escrow Accounts [4] page. What business records must I keep to document the searches I perform? The business records you keep must exist prior to the search you perform and must establish the business purpose of the search. Common examples of business records include invoices, retainer agreements, employment applications, consent forms, accident reports, and surveillance reports and numerous other types of records. The Terms of Service of your Search Account require you to maintain these records and to provide them to DMV when requested. Will DMV contact me about the searches I perform using my DIAL-IN Search Account? Yes , DMV may ask you about a DIAL - IN search you performed. We inquire about searches to monitor compliance with the DIAL - IN Terms of Service . You must respond to the inquiry whether or not you have business records that support your search. Your response will be considered an incomplete reply if you do not give us the business records. You can complete an inquiry at any time if you send us the requested acceptable business records. If you performed the search on behalf of a client , you will need to show permissible use of your client, and your client agent relationship. If you personally did not perform the search we have inquired about , please check with the other users of your DIAL - IN account to see if one of them performed the search. If none of the known users performed the search , contact us immediately. If you do not respond to our inquiry about a DIAL - IN search, your search privileges will be suspended until you respond. Will you tell a motorist if I searched his records? Yes. Records of searches are public records. If a motorist asks the DMV if his records were searched , the DMV supplies him with the name and business address of the DIAL - IN account holder , and the time, date and search criteria used to search for the records. We do not disclose the DIAL - IN account numbers of the account holder that performed the search. How do I contact DMV about my Dial-in Search Account? You can contact us at: NYSDMV DIAL - IN AccountsRoom 2316 Empire State PlazaAlbany, NY 12228 473 - 2137e - mail: [email protected] [5 ] Note on browser compatibility We are upgrading our security protocols to better protect your data. To verify your browser is compatible to continue using any of the state's government websites , please visit https://encryption.ny.gov/ [6]. If your browser is not currently compatible , please update it to the newest version.\"\n",
    "\n",
    "prompt = \"user:Can I know if anybody asked for my records?\"\n",
    "inputs = tokenizer(PADDING_TEXT + prompt, add_special_tokens=False, return_tensors=\"pt\")[\"input_ids\"]\n",
    "\n",
    "prompt_length = len(tokenizer.decode(inputs[0]))\n",
    "outputs = model.generate(inputs, max_length=1200, do_sample=True, top_p=0.95, top_k=60)\n",
    "generated = prompt + tokenizer.decode(outputs[0])[prompt_length + 1 :]\n",
    "\n",
    "print(generated)"
   ]
  },
  {
   "cell_type": "code",
   "execution_count": 129,
   "id": "ebabb93e",
   "metadata": {},
   "outputs": [
    {
     "data": {
      "text/plain": [
       "{'score': 2.4074859035470344,\n",
       " 'counts': [2, 0, 0, 0],\n",
       " 'totals': [19, 18, 17, 16],\n",
       " 'precisions': [10.526315789473685,\n",
       "  2.7777777777777777,\n",
       "  1.4705882352941178,\n",
       "  0.78125],\n",
       " 'bp': 1.0,\n",
       " 'sys_len': 19,\n",
       " 'ref_len': 7}"
      ]
     },
     "execution_count": 129,
     "metadata": {},
     "output_type": "execute_result"
    }
   ],
   "source": [
    "predictions = [\"Please contact us at : ( the search for information on DMV records may require an inquiry ).\"]\n",
    "references = [[\"Records of searches are public records.\"]]\n",
    "results = metric.compute(predictions=predictions, references=references)\n",
    "results"
   ]
  },
  {
   "cell_type": "markdown",
   "id": "0729cf85",
   "metadata": {},
   "source": [
    "### compare without 'user:' at prompt - better score - consistent"
   ]
  },
  {
   "cell_type": "code",
   "execution_count": 130,
   "id": "a0a2b22a",
   "metadata": {},
   "outputs": [
    {
     "name": "stdout",
     "output_type": "stream",
     "text": [
      "Can I know if anybody asked for my records?No. You must notify the DMV at the time of the request. You are responsible for protecting your personal information. Information collected through your search has been used to make you identifiable and sensitive to our law enforcement and public safety agencies for data collection purposes. If you did not enter the name and business address of any of the employees who are requested by DMV, please respond to our inquiries and provide the business record to\n"
     ]
    }
   ],
   "source": [
    "prompt = \"Can I know if anybody asked for my records?\"\n",
    "inputs = tokenizer(PADDING_TEXT + prompt, add_special_tokens=False, return_tensors=\"pt\")[\"input_ids\"]\n",
    "\n",
    "prompt_length = len(tokenizer.decode(inputs[0]))\n",
    "outputs = model.generate(inputs, max_length=1200, do_sample=True, top_p=0.95, top_k=60)\n",
    "generated = prompt + tokenizer.decode(outputs[0])[prompt_length + 1 :]\n",
    "\n",
    "print(generated)"
   ]
  },
  {
   "cell_type": "code",
   "execution_count": 131,
   "id": "a17cd7bb",
   "metadata": {},
   "outputs": [
    {
     "data": {
      "text/plain": [
       "{'score': 3.377156414337854,\n",
       " 'counts': [2, 0, 0, 0],\n",
       " 'totals': [14, 13, 12, 11],\n",
       " 'precisions': [14.285714285714286,\n",
       "  3.8461538461538463,\n",
       "  2.0833333333333335,\n",
       "  1.1363636363636365],\n",
       " 'bp': 1.0,\n",
       " 'sys_len': 14,\n",
       " 'ref_len': 7}"
      ]
     },
     "execution_count": 131,
     "metadata": {},
     "output_type": "execute_result"
    }
   ],
   "source": [
    "predictions = [\"No. You must notify the DMV at the time of the request.\"]\n",
    "references = [[\"Records of searches are public records.\"]]\n",
    "results = metric.compute(predictions=predictions, references=references)\n",
    "results"
   ]
  },
  {
   "cell_type": "markdown",
   "id": "8740ef5a",
   "metadata": {},
   "source": [
    "### Example 2-2. Dial-in search accounts - Search records (with dialogue history) - similar score"
   ]
  },
  {
   "cell_type": "code",
   "execution_count": 133,
   "id": "b1ca820e",
   "metadata": {},
   "outputs": [
    {
     "name": "stdout",
     "output_type": "stream",
     "text": [
      "user:Just to check the address of contact is correct please tell me if this is the right one: NYSDMV DIAL - IN AccountsRoom 2316 Empire State PlazaAlbany , NY 12228 473 - 2137 agent:We can supply you with the name and business address of the Dial-In account holder and the time, date and search criteria they used for the records. user:What info can you give me about those that search for my DMV records? agent:First, you should update your browser to its newest version available. user:What should I do if your site says my browser is not compatible?. agent:ok our mail address for dial-in search account related problems is NYSDMV DIAL - IN AccountsRoom 2316 Empire State PlazaAlbany , NY 12228 473 - 2137 user:Sorry, it looks like my chat didn't show your message well, can you please how to tell me how to contact DMV about my dial-in search account. agent:Our contact address for that is NYSDMV DIAL - IN AccountsRoom 2316 Empire State PlazaAlbany , NY 12228 473 - 2137e - mail user:I need to contact DMV about my dial-in search account agent:You should visit https://encryption.ny.gov/ to check the compatibility of your website and if it says that is not compatible, please update your browser. user:it looks like my browser is not compatible with your website. agent:Yes, since the records of searches are public we'll inform any motorist if his records were searched. user:Can I know if anybody asked for my records?agent:No, if they ask for my records, you are not authorized to send my records to DMV. agent:We cannot find anyone who asks for the records. Agent:In our form\n"
     ]
    }
   ],
   "source": [
    "PADDING_TEXT = \"Log On to DIAL - IN [1 ] What is a DIAL-IN search account and who can get one? If you regularly need to search DMV records for driver license, registration, vehicle title or insurance information , then DIAL - IN is the service you need. Our typical clients include attorneys, insurance and private investigators, process servers and building / site security personnel. See Drivers Privacy Protection Act DPPA [2] for more information about permissible uses of DMV records. How do I apply for an account? You should complete form Motor Vehicle Record Search Account Application PDF [3] MV-15D. The instructions are on the form. Send the form to : Data Services - New Search AccountNYS Department of Motor Vehicles6 Empire State PlazaAlbany, NY 12228 How will I know my application has been accepted? We will review your application. If you application is not complete , we will return your application with an explanation that will give you more instructions. If your application is complete , we will create an account for you. We will send you your account number and password. Your seven - digit account number will never change. You will enter this account number when you log in to the DIAL - IN system. Are there fees for using a DIAL-IN search account? According to the NYS Vehicle and Traffic Law , we must charge a fee to search DMV records. Private persons, commercial organizations, and not - for - profit organizations must pay a search fee. There is a fee of $7.00 for each search that you make with the DIAL - IN service. There are some organizations that are exempt from search fees. Any public organization, its officers, a volunteer fire company, a volunteer ambulance service, or a legal aid bureau or society or other private entity acting pursuant to section 722 of the New York State County Law, that makes a search for a public purpose, is exempt from the search fee. How do I pay DIAL-IN Search Account fees? Paying customers must include a deposit with the application. Your first deposit must be enough to pay for two months of searches. When we accept your application , your deposit is added to your new account balance. When you make a search , we subtract the search fee from your account balance. Payment by credit card is NOT available at this time. You can use your account to pay for the mail - order searches and the online searches. If you must pay a fee for the service , your account records will reflect your debits and your credits and show your account balance. For more information , please visit our Escrow Accounts [4] page. What business records must I keep to document the searches I perform? The business records you keep must exist prior to the search you perform and must establish the business purpose of the search. Common examples of business records include invoices, retainer agreements, employment applications, consent forms, accident reports, and surveillance reports and numerous other types of records. The Terms of Service of your Search Account require you to maintain these records and to provide them to DMV when requested. Will DMV contact me about the searches I perform using my DIAL-IN Search Account? Yes , DMV may ask you about a DIAL - IN search you performed. We inquire about searches to monitor compliance with the DIAL - IN Terms of Service . You must respond to the inquiry whether or not you have business records that support your search. Your response will be considered an incomplete reply if you do not give us the business records. You can complete an inquiry at any time if you send us the requested acceptable business records. If you performed the search on behalf of a client , you will need to show permissible use of your client, and your client agent relationship. If you personally did not perform the search we have inquired about , please check with the other users of your DIAL - IN account to see if one of them performed the search. If none of the known users performed the search , contact us immediately. If you do not respond to our inquiry about a DIAL - IN search, your search privileges will be suspended until you respond. Will you tell a motorist if I searched his records? Yes. Records of searches are public records. If a motorist asks the DMV if his records were searched , the DMV supplies him with the name and business address of the DIAL - IN account holder , and the time, date and search criteria used to search for the records. We do not disclose the DIAL - IN account numbers of the account holder that performed the search. How do I contact DMV about my Dial-in Search Account? You can contact us at: NYSDMV DIAL - IN AccountsRoom 2316 Empire State PlazaAlbany, NY 12228 473 - 2137e - mail: [email protected] [5 ] Note on browser compatibility We are upgrading our security protocols to better protect your data. To verify your browser is compatible to continue using any of the state's government websites , please visit https://encryption.ny.gov/ [6]. If your browser is not currently compatible , please update it to the newest version.\"\n",
    "\n",
    "prompt = \"user:Just to check the address of contact is correct please tell me if this is the right one: NYSDMV DIAL - IN AccountsRoom 2316 Empire State PlazaAlbany , NY 12228 473 - 2137 agent:We can supply you with the name and business address of the Dial-In account holder and the time, date and search criteria they used for the records. user:What info can you give me about those that search for my DMV records? agent:First, you should update your browser to its newest version available. user:What should I do if your site says my browser is not compatible?. agent:ok our mail address for dial-in search account related problems is NYSDMV DIAL - IN AccountsRoom 2316 Empire State PlazaAlbany , NY 12228 473 - 2137 user:Sorry, it looks like my chat didn't show your message well, can you please how to tell me how to contact DMV about my dial-in search account. agent:Our contact address for that is NYSDMV DIAL - IN AccountsRoom 2316 Empire State PlazaAlbany , NY 12228 473 - 2137e - mail user:I need to contact DMV about my dial-in search account agent:You should visit https://encryption.ny.gov/ to check the compatibility of your website and if it says that is not compatible, please update your browser. user:it looks like my browser is not compatible with your website. agent:Yes, since the records of searches are public we'll inform any motorist if his records were searched. user:Can I know if anybody asked for my records?\"\n",
    "inputs = tokenizer(PADDING_TEXT + prompt, add_special_tokens=False, return_tensors=\"pt\")[\"input_ids\"]\n",
    "\n",
    "prompt_length = len(tokenizer.decode(inputs[0]))\n",
    "outputs = model.generate(inputs, max_length=1510, do_sample=True, top_p=0.95, top_k=60)\n",
    "generated = prompt + tokenizer.decode(outputs[0])[prompt_length + 1 :]\n",
    "\n",
    "print(generated)"
   ]
  },
  {
   "cell_type": "code",
   "execution_count": 134,
   "id": "47ab6289",
   "metadata": {},
   "outputs": [
    {
     "data": {
      "text/plain": [
       "{'score': 2.5889065173943995,\n",
       " 'counts': [4, 1, 0, 0],\n",
       " 'totals': [34, 33, 32, 31],\n",
       " 'precisions': [11.764705882352942,\n",
       "  3.0303030303030303,\n",
       "  1.5625,\n",
       "  0.8064516129032258],\n",
       " 'bp': 1.0,\n",
       " 'sys_len': 34,\n",
       " 'ref_len': 33}"
      ]
     },
     "execution_count": 134,
     "metadata": {},
     "output_type": "execute_result"
    }
   ],
   "source": [
    "predictions = [\"agent:No, if they ask for my records, you are not authorized to send my records to DMV. agent:We cannot find anyone who asks for the records.\"]\n",
    "references = [[\"agent:You can contact us at: NYSDMV DIAL - IN AccountsRoom 2316 Empire State PlazaAlbany, NY 12228 473 - 2137e - mail: [email protected] [5 ]\"]]\n",
    "results = metric.compute(predictions=predictions, references=references)\n",
    "results"
   ]
  },
  {
   "cell_type": "code",
   "execution_count": null,
   "id": "cb3b0259",
   "metadata": {},
   "outputs": [],
   "source": []
  }
 ],
 "metadata": {
  "kernelspec": {
   "display_name": "DN_lab",
   "language": "python",
   "name": "dn_lab"
  },
  "language_info": {
   "codemirror_mode": {
    "name": "ipython",
    "version": 3
   },
   "file_extension": ".py",
   "mimetype": "text/x-python",
   "name": "python",
   "nbconvert_exporter": "python",
   "pygments_lexer": "ipython3",
   "version": "3.8.5"
  }
 },
 "nbformat": 4,
 "nbformat_minor": 5
}
